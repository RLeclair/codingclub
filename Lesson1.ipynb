{
  "cells": [
    {
      "cell_type": "markdown",
      "metadata": {
        "id": "view-in-github",
        "colab_type": "text"
      },
      "source": [
        "<a href=\"https://colab.research.google.com/github/RLeclair/codingclub/blob/master/Lesson1.ipynb\" target=\"_parent\"><img src=\"https://colab.research.google.com/assets/colab-badge.svg\" alt=\"Open In Colab\"/></a>"
      ]
    },
    {
      "cell_type": "markdown",
      "metadata": {
        "id": "QLTMS3MCQNnc"
      },
      "source": [
        "#**Lesson 1: Welcome to Python!**\n",
        "\n",
        "### In lesson 1 we'll go over\n",
        "- 1.1 Google Colab\n",
        "- 1.2 Hello world\n",
        "- 1.3 What is a python program?\n",
        "- 1.4 What is a variable?\n",
        "- 1.5 What are variable types?\n",
        "- 1.6 Working with strings\n",
        "- 1.7 Working with numbers\n",
        "- Exercises\n",
        "\n",
        "\n"
      ]
    },
    {
      "cell_type": "markdown",
      "metadata": {
        "id": "rR5aTaICTFMC"
      },
      "source": [
        "## **1.1 Google Colab**\n",
        "### What is Google Colab?\n",
        "- Allows us to write and execute Python code\n",
        "- Uses .ipynb files\n",
        "- Very easy to use and free\n",
        "\n",
        "### What is a python notebook?\n",
        "- A type of file that allows you to:\n",
        "  - Write markdown text\n",
        "  - Execute python code in blocks\n",
        "- This is a text box\n",
        "- We can add a text box with the \"+Text\" button above"
      ]
    },
    {
      "cell_type": "code",
      "execution_count": null,
      "metadata": {
        "id": "V1ovKak-Uthd"
      },
      "outputs": [],
      "source": [
        "# This is a code box\n",
        "# We use the \"#\" for comments\n",
        "# Can make it with \"+Code\" button"
      ]
    },
    {
      "cell_type": "markdown",
      "metadata": {
        "id": "QHWMKkN2Ee2s"
      },
      "source": [
        "\n",
        "##**1.2 Hello World**\n",
        "- Everyone's first program!\n",
        "- We will use the **print()** function\n",
        "- The program will output data to the console"
      ]
    },
    {
      "cell_type": "code",
      "execution_count": null,
      "metadata": {
        "id": "gTPwfgWKQROU"
      },
      "outputs": [],
      "source": [
        "# Write print('Hello World') and execute! You can click on the play button or do control-enter\n",
        "print(\"Hello world\")"
      ]
    },
    {
      "cell_type": "markdown",
      "metadata": {
        "id": "43SaIJ9qIToa"
      },
      "source": [
        "## **1.3 What is a Python program?**\n",
        "- A set of instructions to a computer\n",
        "- The order of the instructions matters! "
      ]
    },
    {
      "cell_type": "code",
      "execution_count": null,
      "metadata": {
        "id": "HCBeGryLJoZd",
        "colab": {
          "base_uri": "https://localhost:8080/"
        },
        "outputId": "cdd323c2-4812-4dbd-b05d-54b79cc04f10"
      },
      "outputs": [
        {
          "output_type": "stream",
          "name": "stdout",
          "text": [
            "I am the first instruction\n",
            "I am the third instruction\n",
            "I am the second instruction\n"
          ]
        }
      ],
      "source": [
        "# To print text use quotations \"\"\n",
        "# Instruction 1\n",
        "print(\"I am the first instruction\")\n",
        "# Instruction 2\n",
        "print(\"I am the second instruction\")\n",
        "# Instruction 3\n",
        "print(\"I am the third instruction\")"
      ]
    },
    {
      "cell_type": "markdown",
      "metadata": {
        "id": "sDGpyg38bPNN"
      },
      "source": [
        "## **1.4 What is a variable?**\n",
        "- A container for data\n",
        "- Can store different types of data"
      ]
    },
    {
      "cell_type": "code",
      "execution_count": null,
      "metadata": {
        "id": "ojV9rWxJb_2-",
        "colab": {
          "base_uri": "https://localhost:8080/"
        },
        "outputId": "3db2a62f-3e54-42d5-be4a-8982845d30d4"
      },
      "outputs": [
        {
          "output_type": "stream",
          "name": "stdout",
          "text": [
            "Alex went to the store today\n",
            "He got some chips\n",
            "Later that day, Alex watches a movie\n",
            "And has some popcorn\n"
          ]
        }
      ],
      "source": [
        "# Let's look at a short story\n",
        "print(\"Alex went to the store today\")\n",
        "print(\"He got some chips\")\n",
        "print(\"Later that day, Alex watches a movie\")\n",
        "print(\"And has some popcorn\")\n"
      ]
    },
    {
      "cell_type": "markdown",
      "metadata": {
        "id": "Or5pJlTXd-G8"
      },
      "source": [
        "### But what if we wanted to change a part of the story?\n",
        "- Variables can help!\n",
        "\n",
        "### Let's look at how variables can help\n",
        "- A variable consists of two things: \n",
        "  - Name:\n",
        "    - Needs a letter\n",
        "    - Ex: box_width\n",
        "  - Value:\n",
        "    - The data\n",
        "    - Can reassign it anytime"
      ]
    },
    {
      "cell_type": "code",
      "execution_count": null,
      "metadata": {
        "colab": {
          "base_uri": "https://localhost:8080/"
        },
        "id": "nOVtpF1-ebuj",
        "outputId": "0673c5ec-dbf1-4792-d256-aa1576b00f9a"
      },
      "outputs": [
        {
          "output_type": "stream",
          "name": "stdout",
          "text": [
            "Alex went to the store today\n",
            "He got some popcorn\n",
            "Later that day,Alex watches a movie\n",
            "And has some popcorn\n"
          ]
        }
      ],
      "source": [
        "# Insert variables for name and snack here:\n",
        "#name = \"Eric\"\n",
        "name = \"Alex\"\n",
        "snack = \"popcorn\"\n",
        "# A short story\n",
        "#print(name + \" went to the store today\")\n",
        "print(name + \" went to the store today\")\n",
        "print(\"He got some \"+ snack )\n",
        "print(\"Later that day,\" + name + \" watches a movie\")\n",
        "print(\"And has some \" + snack)"
      ]
    },
    {
      "cell_type": "markdown",
      "metadata": {
        "id": "GX3OlHrHgjlu"
      },
      "source": [
        "## **1.5 What is a variable type?**\n",
        "- A type of data, which can be:\n",
        "  - String\n",
        "  - Whole number (integer)\n",
        "  - Decimal\n",
        "  - Boolean\n",
        "- Different types have different properties\n",
        "\n",
        "*Note: There are more but these are the ones you'll use the most in the beginning*"
      ]
    },
    {
      "cell_type": "code",
      "execution_count": null,
      "metadata": {
        "id": "_3aERo7ygsri"
      },
      "outputs": [],
      "source": [
        "my_name = \"Raul\" # a string, text in quotations\n",
        "my_age = 22 # an integer, a whole number\n",
        "pi = 3.14 # a decimal\n",
        "is_nicaraguan = True # a boolean (True or False)"
      ]
    },
    {
      "cell_type": "markdown",
      "metadata": {
        "id": "MzpmJqyfpZa-"
      },
      "source": [
        "## **1.6 Working with strings**\n",
        "- Strings are a series of characters (text)\n",
        "- Can make a string by putting text between quotations"
      ]
    },
    {
      "cell_type": "code",
      "execution_count": null,
      "metadata": {
        "id": "qU6IyF42xAVh"
      },
      "outputs": [],
      "source": [
        "# Declaring and printing a string variable\n",
        "my_str = \"Hello world!\"\n",
        "print(my_str)"
      ]
    },
    {
      "cell_type": "markdown",
      "metadata": {
        "id": "7XflVLfW38Az"
      },
      "source": [
        "###Concatenation\n",
        "- We can concatenate (combine) two strings using +"
      ]
    },
    {
      "cell_type": "code",
      "execution_count": null,
      "metadata": {
        "colab": {
          "base_uri": "https://localhost:8080/"
        },
        "id": "f8HOdY8w2vOL",
        "outputId": "6c816c8c-020a-41df-8f7d-0b98e3fb277c"
      },
      "outputs": [
        {
          "output_type": "stream",
          "name": "stdout",
          "text": [
            "Learning code\n"
          ]
        }
      ],
      "source": [
        "string_one = \"Learning \"\n",
        "string_two = \"code\"\n",
        "my_strings = string_one + string_two\n",
        "print(my_strings)"
      ]
    },
    {
      "cell_type": "markdown",
      "metadata": {
        "id": "hrYLDY4k4SR_"
      },
      "source": [
        "### The \\ character (Escape Formatting)\n",
        "- Using \\n in your string is the same as clicking enter on your keyboard\n",
        "- Using \\\\\" in your string adds a quotation\n",
        "- Just using \\ doesn't do anything"
      ]
    },
    {
      "cell_type": "code",
      "execution_count": null,
      "metadata": {
        "colab": {
          "base_uri": "https://localhost:8080/"
        },
        "id": "geWndq004P2q",
        "outputId": "8ffb7726-bc2b-4ecd-eafa-de7ba22044c9"
      },
      "outputs": [
        {
          "output_type": "stream",
          "name": "stdout",
          "text": [
            "I want this\\ sentence up here\n",
            "And this one down here\n"
          ]
        }
      ],
      "source": [
        "print(\"I want this sentence up here\\nAnd this one down here\")"
      ]
    },
    {
      "cell_type": "markdown",
      "metadata": {
        "id": "Hjpn3TD-40NJ"
      },
      "source": [
        "### String functions\n",
        "- A function is a small collection of code that does something\n",
        "- You can alter a string, or get information from it using string functions\n",
        "- Can also chain functions"
      ]
    },
    {
      "cell_type": "code",
      "execution_count": null,
      "metadata": {
        "id": "BkR4Ip5X4xXe",
        "colab": {
          "base_uri": "https://localhost:8080/"
        },
        "outputId": "d50acbc3-de3a-470f-ab37-34e08f850936"
      },
      "outputs": [
        {
          "output_type": "stream",
          "name": "stdout",
          "text": [
            "learning code!\n",
            "False\n"
          ]
        }
      ],
      "source": [
        "my_string = \"Learning Code!\"\n",
        "# Let's make this string lower case with lower()\n",
        "print(my_string.lower())\n",
        "\n",
        "# Can you guess how to make it upper case?\n",
        "\n",
        "# Let's check if a string is lower case or upper case with islower() and isupper()\n",
        "print(my_string.islower()) # False because not all characters are lower case"
      ]
    },
    {
      "cell_type": "markdown",
      "metadata": {
        "id": "fJer5W4I58Jz"
      },
      "source": [
        "### Chaining functions\n",
        "- We can chain string functions"
      ]
    },
    {
      "cell_type": "code",
      "execution_count": null,
      "metadata": {
        "id": "j5WDNnpk6MPi"
      },
      "outputs": [],
      "source": [
        "# Let's chain lower and islower\n",
        "print(my_string.lower().islower()) # This will print out True since we turned the string into lower case and checked if it is in fact lower case"
      ]
    },
    {
      "cell_type": "markdown",
      "metadata": {
        "id": "UaZt-ZK66V72"
      },
      "source": [
        "### The len() function\n",
        "- Gets us the **len**gth of the string"
      ]
    },
    {
      "cell_type": "code",
      "execution_count": null,
      "metadata": {
        "id": "tDXGg9Wd6g95",
        "colab": {
          "base_uri": "https://localhost:8080/"
        },
        "outputId": "3589df8d-804d-4822-d5fc-a46a832491ab"
      },
      "outputs": [
        {
          "output_type": "stream",
          "name": "stdout",
          "text": [
            "24\n"
          ]
        }
      ],
      "source": [
        "# Let's get the length of the following string \n",
        "my_string = \"How long is this string?\"\n",
        "print(len(my_string))"
      ]
    },
    {
      "cell_type": "markdown",
      "metadata": {
        "id": "vTFa8JSB7NxI"
      },
      "source": [
        "### Getting an individual character\n",
        "- Say we have string \"Hello\", how do we get just the 'e'?"
      ]
    },
    {
      "cell_type": "code",
      "execution_count": null,
      "metadata": {
        "id": "DtRCAyKI7c6d"
      },
      "outputs": [],
      "source": [
        "my_string = \"Hello\"\n",
        "# Hello\n",
        "# 01234\n",
        "\n",
        "print(my_string[4])"
      ]
    },
    {
      "cell_type": "markdown",
      "metadata": {
        "id": "IpKnVV5A7sS1"
      },
      "source": [
        "### Some useful functions\n",
        "- How do we find where something is in a string?\n",
        "- How do we replace something in a string?"
      ]
    },
    {
      "cell_type": "code",
      "execution_count": null,
      "metadata": {
        "id": "WxJMZFpY4wl6",
        "colab": {
          "base_uri": "https://localhost:8080/"
        },
        "outputId": "036e967d-1b69-4a38-b139-7feeaf4ea70a"
      },
      "outputs": [
        {
          "output_type": "stream",
          "name": "stdout",
          "text": [
            "I found pizza\n"
          ]
        }
      ],
      "source": [
        "my_string = \"I found something\"\n",
        "# my_string.index(\"[some argument]\") tells us where\n",
        "#print(my_string.index(\"something\"))\n",
        "# my_string.replace(\"[old word]\", \"[new word]\") can replace\n",
        "print(my_string.replace(\"something\", \"pizza\"))"
      ]
    },
    {
      "cell_type": "markdown",
      "metadata": {
        "id": "HPjUpE1T8jhl"
      },
      "source": [
        "Can find more functions using google!"
      ]
    },
    {
      "cell_type": "markdown",
      "metadata": {
        "id": "dHaT9XLODw-7"
      },
      "source": [
        "## Exercises\n",
        "- These exercises are just meant to solidify your understanding\n",
        "- I am also not grading you so don't stress about them 😀\n"
      ]
    },
    {
      "cell_type": "markdown",
      "metadata": {
        "id": "vsZUY5K-ETSI"
      },
      "source": [
        "### Exercise 1\n",
        "- 1.1 Create a variable named language and assign English to it, then print it!\n",
        "- 1.2 Change the variable's value to Spanish and print it again!"
      ]
    },
    {
      "cell_type": "code",
      "execution_count": null,
      "metadata": {
        "id": "BbWofcvEEGN1"
      },
      "outputs": [],
      "source": [
        "# TODO: Type your code for 1.1 here\n",
        "\n",
        "\n",
        "# TODO: Type your code for 1.2 here"
      ]
    },
    {
      "cell_type": "markdown",
      "metadata": {
        "id": "xjHEkZ8FFwWt"
      },
      "source": [
        "### Exercise 2\n",
        "- 2.1 Add the variable below to the string and print it in the next line\n",
        "\n",
        "*It should look like:*\n",
        "\n",
        "My favorite programming language is:\n",
        "\n",
        "PYTHON\n",
        "- 2.2 Print the same sentence but lower case!\n",
        "\n",
        "*It should look like:*\n",
        "\n",
        "My favorite programming language is:\n",
        "\n",
        "python"
      ]
    },
    {
      "cell_type": "code",
      "execution_count": null,
      "metadata": {
        "id": "67UjEnQmHJk8"
      },
      "outputs": [],
      "source": [
        "# Part 2.1\n",
        "prog_lang = \"PYTHON\"\n",
        "# TODO: Edit the print statement\n",
        "print(\"My favorite programming language is:\")\n",
        "\n",
        "# Part 2.2\n",
        "# TODO: Add your code below!"
      ]
    },
    {
      "cell_type": "markdown",
      "metadata": {
        "id": "J98bEscRImzs"
      },
      "source": [
        "### Exercise 3 (the last one!)\n",
        "- 3.1 Use the index function to find where the character 'e' is\n",
        "- 3.2 Using the number you found in 3.1, print out the character from the string\n",
        "\n",
        "You should index it! Look at the *Getting an Individual Character* section"
      ]
    },
    {
      "cell_type": "code",
      "execution_count": null,
      "metadata": {
        "id": "yNDO7YUvId39"
      },
      "outputs": [],
      "source": [
        "# Part 3.1\n",
        "my_var = \"character\"\n",
        "# TODO: Find where (the number) the character e is in the variable\n",
        "\n",
        "# Part 3.2\n",
        "# Print out just that character from the variable."
      ]
    }
  ],
  "metadata": {
    "colab": {
      "collapsed_sections": [],
      "name": "Lesson1.ipynb",
      "provenance": [],
      "authorship_tag": "ABX9TyOZEFICrlb3SKf1QxgjnFFv",
      "include_colab_link": true
    },
    "kernelspec": {
      "display_name": "Python 3",
      "name": "python3"
    },
    "language_info": {
      "name": "python"
    }
  },
  "nbformat": 4,
  "nbformat_minor": 0
}