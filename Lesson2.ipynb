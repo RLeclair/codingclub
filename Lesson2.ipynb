{
  "cells": [
    {
      "cell_type": "markdown",
      "metadata": {
        "id": "view-in-github",
        "colab_type": "text"
      },
      "source": [
        "<a href=\"https://colab.research.google.com/github/RLeclair/codingclub/blob/master/Lesson2.ipynb\" target=\"_parent\"><img src=\"https://colab.research.google.com/assets/colab-badge.svg\" alt=\"Open In Colab\"/></a>"
      ]
    },
    {
      "cell_type": "markdown",
      "metadata": {
        "id": "QLTMS3MCQNnc"
      },
      "source": [
        "#**Lesson 2: Conditionals and For loops!**\n",
        "\n",
        "### In lesson 2 we'll go over\n",
        "- 2.0 Review and Exercises\n",
        "- 2.1 Working with numbers\n",
        "- 2.2 Casting\n",
        "- 2.3 Conditionals\n",
        "- 2.4 Comparisons\n",
        "- 2.5 For loops\n",
        "- Exercises\n",
        "\n",
        "\n"
      ]
    },
    {
      "cell_type": "markdown",
      "metadata": {
        "id": "rR5aTaICTFMC"
      },
      "source": [
        "## **2.0 Review and Exercises**\n",
        "### Last time we went over:\n",
        "- Python programs, variables, variable types, and strings"
      ]
    },
    {
      "cell_type": "code",
      "execution_count": null,
      "metadata": {
        "id": "V1ovKak-Uthd"
      },
      "outputs": [],
      "source": [
        "# Hello world (This is a comment btw, need to use a # to start one)\n",
        "# print('Hello world')\n",
        "\n",
        "# variables\n",
        "pizza_brand = \"Pagliacci\" # string\n",
        "pizza_type = \"Cheese\" # string\n",
        "pizza_diameter = 12 # integer (whole number)\n",
        "pizza_price = 8.50 # decimal\n",
        "has_cheese = True # boolean (True)\n",
        "has_olives = False # boolean (False)\n",
        "\n",
        "# Working with strings\n",
        "#print(\"Yesterday I had a \" + pizza_type + \" pizza from \" + pizza_brand) # Concatenation\n",
        "#print(\"Yesterday I had a \" + pizza_type + \" \\npizza from \" + pizza_brand) # escape formatting\n",
        "#print(\"Yesterday I had a \" + pizza_type.upper() + \" pizza from \" + pizza_brand.lower()) # string functions\n",
        "#print(\"Yesterday I had a \" + pizza_type[0] + \" pizza from \" + pizza_brand) # Getting an individual character\n",
        "\n",
        "test_string = \"Hello my name is Raul\"\n",
        "test_string = test_string.replace(\"Raul\",\"Eric\")\n",
        "#print(test_string)\n",
        "\n"
      ]
    },
    {
      "cell_type": "markdown",
      "source": [
        "### Last week's exercises"
      ],
      "metadata": {
        "id": "niA70UtQnqqF"
      }
    },
    {
      "cell_type": "markdown",
      "metadata": {
        "id": "vsZUY5K-ETSI"
      },
      "source": [
        "### Exercise 1\n",
        "- 1.1 Create a variable named language and assign English to it, then print it!\n",
        "- 1.2 Change the variable's value to Spanish and print it again!"
      ]
    },
    {
      "cell_type": "code",
      "execution_count": null,
      "metadata": {
        "id": "BbWofcvEEGN1"
      },
      "outputs": [],
      "source": [
        "# TODO: Type your code for 1.1 here\n",
        "language = \"English\"\n",
        "print(language)\n",
        "\n",
        "# TODO: Type your code for 1.2 here\n",
        "language = \"Spanish\"\n",
        "print(language)"
      ]
    },
    {
      "cell_type": "markdown",
      "metadata": {
        "id": "xjHEkZ8FFwWt"
      },
      "source": [
        "### Exercise 2\n",
        "- 2.1 Add the variable below to the string and print it in the next line\n",
        "\n",
        "*It should look like:*\n",
        "\n",
        "My favorite programming language is:\n",
        "\n",
        "PYTHON\n",
        "- 2.2 Print the same sentence but lower case!\n",
        "\n",
        "*It should look like:*\n",
        "\n",
        "My favorite programming language is:\n",
        "\n",
        "python"
      ]
    },
    {
      "cell_type": "code",
      "execution_count": null,
      "metadata": {
        "id": "67UjEnQmHJk8"
      },
      "outputs": [],
      "source": [
        "# Part 2.1\n",
        "prog_lang = \"PYTHON\"\n",
        "# TODO: Edit the print statement\n",
        "print(\"My favorite programming language is:\\n\" + prog_lang)\n",
        "\n",
        "# Part 2.2\n",
        "# TODO: Add your code below!\n",
        "print(\"My favorite programming language is:\\n\" + prog_lang.lower())"
      ]
    },
    {
      "cell_type": "markdown",
      "metadata": {
        "id": "J98bEscRImzs"
      },
      "source": [
        "### Exercise 3 (the last one!)\n",
        "- 3.1 Use the index function to find where the character 'e' is\n",
        "- 3.2 Using the number you found in 3.1, print out the character from the string\n",
        "\n",
        "You should index it! Look at the *Getting an Individual Character* section"
      ]
    },
    {
      "cell_type": "code",
      "execution_count": null,
      "metadata": {
        "id": "yNDO7YUvId39"
      },
      "outputs": [],
      "source": [
        "# Part 3.1\n",
        "my_var = \"character\"\n",
        "# TODO: Find where (the number) the character e is in the variable\n",
        "print(my_var.index('e'))\n",
        "\n",
        "# Part 3.2\n",
        "# Print out just that character from the variable.\n",
        "print(my_var[7])"
      ]
    },
    {
      "cell_type": "markdown",
      "metadata": {
        "id": "yr7ENmxHzBc3"
      },
      "source": [
        "## **2.1 Working with numbers**\n",
        "- There are many functions for numbers too"
      ]
    },
    {
      "cell_type": "code",
      "execution_count": null,
      "metadata": {
        "id": "kun9R7bD9RF_"
      },
      "outputs": [],
      "source": [
        "# Let's look at numbers\n",
        "my_num = 5\n",
        "\n",
        "# We can make it a decimal\n",
        "my_num = 5.4\n",
        "\n",
        "# we can also make it negative\n",
        "my_num = -5"
      ]
    },
    {
      "cell_type": "markdown",
      "metadata": {
        "id": "HNMUDEan9fmX"
      },
      "source": [
        "### Operation with numbers\n",
        "- Add using +\n",
        "- Subtract using -\n",
        "- Divide using / \n",
        "- Multiply using *\n",
        "- Modulus with %\n",
        "- Follows PEMDAS!\n",
        "- Can specify order with parentheses"
      ]
    },
    {
      "cell_type": "code",
      "execution_count": null,
      "metadata": {
        "id": "oFcsnZMs90v-"
      },
      "outputs": [],
      "source": [
        "my_num1 = 2\n",
        "my_num2 = 5\n",
        "\n",
        "# Let's add them\n",
        "#print(my_num1 + my_num2)\n",
        "\n",
        "# Let's subtract them\n",
        "#print(my_num1 - my_num2)\n",
        "\n",
        "# Let's divide them\n",
        "#print(my_num2 / my_num1)\n",
        "\n",
        "# Let's multiply them\n",
        "# print(my_num1 * my_num2)\n",
        "\n",
        "# Let's find the remainder (modulus)\n",
        "# print(my_num2 % my_num1)\n",
        "\n",
        "# Let's look at pemdas\n",
        "#print(2 * 1 + 3) \n",
        "\n",
        "#print(2 * (1 + 3)) \n"
      ]
    },
    {
      "cell_type": "markdown",
      "metadata": {
        "id": "2D0DOO8-CbRG"
      },
      "source": [
        "### Other functions you can use \n",
        "- Get the absolute value with abs()\n",
        "- To use exponents use pow()\n",
        "- Get the max or min of two numbers with max() or min()\n",
        "- Can also round numbers with round()\n",
        "- Convert a number into a string with str()\n",
        "\n",
        "*We can get more functions if we import them*"
      ]
    },
    {
      "cell_type": "code",
      "execution_count": null,
      "metadata": {
        "id": "5KFkoZPnzP0z",
        "colab": {
          "base_uri": "https://localhost:8080/"
        },
        "outputId": "d865ef34-c471-485c-9f10-7d6f770f5ea5"
      },
      "outputs": [
        {
          "output_type": "stream",
          "name": "stdout",
          "text": [
            "5\n"
          ]
        }
      ],
      "source": [
        "#print(abs(-5))\n",
        "#print(pow(3,2))\n",
        "#print(max(5,3))\n",
        "#print(min(5,3))\n",
        "#print(round(4.7))"
      ]
    },
    {
      "cell_type": "code",
      "execution_count": null,
      "metadata": {
        "id": "hNhB_EjVFZO1"
      },
      "outputs": [],
      "source": [
        "my_num = 7\n",
        "# print(\"This is number \" + my_num) # this is wrong\n",
        "# We can correct it with\n",
        "print(\"This is number \" + str(my_num))"
      ]
    },
    {
      "cell_type": "code",
      "execution_count": null,
      "metadata": {
        "id": "d_PLristC9wn"
      },
      "outputs": [],
      "source": [
        "from math import *\n",
        "#print(floor(4.7)) # Round down\n",
        "#print(ceil(4.3)) # Round up \n",
        "#print(sqrt(9)) # Get the square root"
      ]
    },
    {
      "cell_type": "markdown",
      "source": [
        "## **2.2 Casting**\n",
        "- Casting is changing a variable's type to a different one\n",
        "- We usually cast between integers, decimals, and strings\n",
        "- Three functions: \n",
        "  - **int()** to convert to integer\n",
        "  - **float()** to convert to decimal\n",
        "  - **str()** to convert to string\n",
        "- Ex: Casting a string into an integer"
      ],
      "metadata": {
        "id": "wLExm1G_OJ1V"
      }
    },
    {
      "cell_type": "code",
      "source": [
        "my_integer = 5\n",
        "my_decimal = 4.5\n",
        "my_string = \"70\"\n",
        "\n",
        "# Casting to string\n",
        "print(str(my_integer)) \n",
        "# print(my_integer) # I can also print out just the number, however if I add a string to it it will fail\n",
        "# print(\"My number: \" + my_integer) # This fails since it can only take one argument of one type\n",
        "\n",
        "#print(str(my_decimal))\n",
        "\n",
        "# Casting to integer\n",
        "add_example = int(my_decimal) + int(my_string)\n",
        "# print(str(add_example)) # \n",
        "# print(add_example)\n",
        "\n",
        "# Casting to a decimal, integer can be added to decimal and will become decimal\n",
        "add_dec_example = my_integer + float(my_string) + my_decimal\n",
        "#print(str(add_dec_example))"
      ],
      "metadata": {
        "id": "ss1l4lR-OdZz"
      },
      "execution_count": null,
      "outputs": []
    },
    {
      "cell_type": "markdown",
      "source": [
        "### input() function\n",
        "- Function to get input from a user\n",
        "- **Will give it as a string**"
      ],
      "metadata": {
        "id": "Ar47z93LQa63"
      }
    },
    {
      "cell_type": "code",
      "source": [
        "# The input function takes a prompt as an argument\n",
        "my_name = input(\"Enter your name: \")\n",
        "print(\"Hello \" + my_name)"
      ],
      "metadata": {
        "id": "97hXQrSRQoof"
      },
      "execution_count": null,
      "outputs": []
    },
    {
      "cell_type": "code",
      "source": [
        "# Let's make a mini calculator\n",
        "print(\"Simple addition calculator\")\n",
        "num_1 = input(\"Enter the first number \")\n",
        "num_2 = input(\"Enter the second number \")\n",
        "\n",
        "result = int(num_1) + int(num_2)\n",
        "print(result)"
      ],
      "metadata": {
        "id": "XRFCKawWVJY7"
      },
      "execution_count": null,
      "outputs": []
    },
    {
      "cell_type": "markdown",
      "source": [
        "## **2.3 Conditionals**\n",
        "- A conditional is a special instruction that allows our code to make decisions\n",
        "- If some data is a specific value we will do a specific action\n",
        "\n"
      ],
      "metadata": {
        "id": "sNkxmcaUo0EH"
      }
    },
    {
      "cell_type": "code",
      "source": [
        "# Story example\n",
        "\n",
        "'''\n",
        "If I am hungry\n",
        "  - I will make breakfast\n",
        "Otherwise\n",
        "  - I will not\n",
        "'''\n",
        "\n",
        "'''\n",
        "If it is 8 am \n",
        "  - I will make breakfast\n",
        "If it is 12pm\n",
        "  - I will make lunch\n",
        "If it is 7pm \n",
        "  - I will make dinner\n",
        "Otherwise\n",
        "  - I will grab a snack\n",
        "'''"
      ],
      "metadata": {
        "id": "4EICFvDZpArm"
      },
      "execution_count": null,
      "outputs": []
    },
    {
      "cell_type": "markdown",
      "source": [
        "### An **if** statement has four parts\n",
        "- The **if** operator\n",
        "- A condition\n",
        "- A colon\n",
        "- The actions we take (indented)\n"
      ],
      "metadata": {
        "id": "EFFUiaXYYd-9"
      }
    },
    {
      "cell_type": "code",
      "source": [
        "is_cold = False # Just a boolean\n",
        "\n",
        "# If statement\n",
        "if is_cold:\n",
        "  print(\"I will wear a sweater\") # This is inside the if statement\n",
        "print(\"This is outside\") # This is outside the if statement"
      ],
      "metadata": {
        "id": "Y_32b7ytXeHx"
      },
      "execution_count": null,
      "outputs": []
    },
    {
      "cell_type": "markdown",
      "source": [
        "### An **else** statement\n",
        "- What happens if the if statement isn't true\n",
        "- Consists of: **else** operator, colon, and action we take"
      ],
      "metadata": {
        "id": "FDzXYpGTZo7a"
      }
    },
    {
      "cell_type": "code",
      "source": [
        "# Adding else\n",
        "is_cold = False\n",
        "\n",
        "# If statement\n",
        "if is_cold:\n",
        "  print(\"It's cold\")\n",
        "  print(\"I will wear a sweater\")\n",
        "else:\n",
        "  print(\"It's not cold!\")\n",
        "  print(\"I won't wear a sweater\") # Action we take, also indented"
      ],
      "metadata": {
        "id": "kYBWAG_JZLpp"
      },
      "execution_count": null,
      "outputs": []
    },
    {
      "cell_type": "markdown",
      "source": [
        "### **or** operator\n",
        "- We can add this to the condition to specify another one\n",
        "- The if will pass if either condition is true\n",
        "- It will not pass only if none of them are true\n"
      ],
      "metadata": {
        "id": "izmr3b1MaNx1"
      }
    },
    {
      "cell_type": "code",
      "source": [
        "is_late = False\n",
        "is_sleepy = False\n",
        "\n",
        "if is_late or is_sleepy:\n",
        "  print(\"I'm going to sleep\")\n",
        "else:\n",
        "  print(\"No sleep yet!\")"
      ],
      "metadata": {
        "id": "FqKkoRNOaNQK",
        "colab": {
          "base_uri": "https://localhost:8080/"
        },
        "outputId": "529750c9-dedc-4b5b-ad2d-ab633b764a70"
      },
      "execution_count": null,
      "outputs": [
        {
          "output_type": "stream",
          "name": "stdout",
          "text": [
            "No sleep yet!\n"
          ]
        }
      ]
    },
    {
      "cell_type": "markdown",
      "source": [
        "### **and** operator\n",
        "- We can add this to the condition to specify another one\n",
        "- The if will pass if **both** conditions are true\n",
        "- It will not pass if any of them are false"
      ],
      "metadata": {
        "id": "iZ1WIjhpc1r7"
      }
    },
    {
      "cell_type": "code",
      "source": [
        "has_feathers = True\n",
        "lays_eggs = False\n",
        "\n",
        "if has_feathers and lays_eggs:\n",
        "  print(\"It is a bird!\")\n",
        "else:\n",
        "  print(\"It is not a bird\")"
      ],
      "metadata": {
        "id": "Wlmd6v9Dczoy"
      },
      "execution_count": null,
      "outputs": []
    },
    {
      "cell_type": "markdown",
      "source": [
        "### **elif** statement\n",
        "- elif is a statement you can put after an if statement and before an else\n",
        "- It evaluates another condition\n",
        "- Let's look at an example:"
      ],
      "metadata": {
        "id": "3qgAhIZ6d2UT"
      }
    },
    {
      "cell_type": "code",
      "source": [
        "'''\n",
        "I'm at an ice cream shop\n",
        "If I want chocolate:\n",
        "  - I will order chocolate flavor\n",
        "Otherwise if I want vanilla: \n",
        "  - I will order vanilla flavor\n",
        "else:\n",
        "  - I will order strawberry\n",
        "'''\n",
        "\n",
        "want_chocolate = False\n",
        "want_vanilla = False\n",
        "\n",
        "if want_chocolate:\n",
        "  print(\"I got a chocolate ice cream\")\n",
        "elif want_vanilla:\n",
        "  print(\"I got a vanilla ice cream\")\n",
        "else:\n",
        "  print(\"I got strawberry\")"
      ],
      "metadata": {
        "id": "IB9J_-aDd14Z"
      },
      "execution_count": null,
      "outputs": []
    },
    {
      "cell_type": "markdown",
      "source": [
        "### **not** statement\n",
        "- not is something you add to a conditional to negate it\n",
        "- not(True) = False\n",
        "- not(False) = True"
      ],
      "metadata": {
        "id": "3NmZYA4jfE2H"
      }
    },
    {
      "cell_type": "code",
      "source": [
        "# Pizza order\n",
        "pepperoni = False\n",
        "large = False\n",
        "\n",
        "if pepperoni and large:\n",
        "  print(\"Your order is a large pepperoni pizza\")\n",
        "elif not(pepperoni) and large:\n",
        "  print(\"Your order is a large cheese pizza\")\n",
        "elif pepperoni and not(large):\n",
        "  print(\"Your order is a small pepperoni pizza\")\n",
        "else:\n",
        "  print(\"Your order is a small cheese pizza\")"
      ],
      "metadata": {
        "id": "r-kunH0WfSyg"
      },
      "execution_count": null,
      "outputs": []
    },
    {
      "cell_type": "markdown",
      "source": [
        "## **2.4 Comparisons**\n",
        "- We can add a condition based on a comparison\n",
        "- We can compare strings and numbers\n",
        "- Comparison operators (A and B would be a number or string):\n",
        "  - **A > B** Greater than\n",
        "  - **A < B** Less than\n",
        "  - **A >= B** Greater than or equal to\n",
        "  - **A <= B** Less than or equal to\n",
        "  - **A == B** Equal to\n",
        "  - **A != B** Not equal to\n",
        "\n"
      ],
      "metadata": {
        "id": "qMEghcyLgfkU"
      }
    },
    {
      "cell_type": "code",
      "source": [
        "num_A = 4\n",
        "num_B = 5\n",
        "\n",
        "if num_A > num_B:\n",
        "  print(\"A is greater than B\")\n",
        "elif num_A < num_B:\n",
        "  print(\"A is less than B\")\n",
        "else:\n",
        "  print(\"They must be equal\")"
      ],
      "metadata": {
        "id": "OfPT4oZ7hYxm"
      },
      "execution_count": null,
      "outputs": []
    },
    {
      "cell_type": "code",
      "source": [
        "my_num = 10\n",
        "if my_num <= 10:\n",
        "  print(\"The number is less than or equal to 10\")"
      ],
      "metadata": {
        "id": "1bknlskPh218"
      },
      "execution_count": null,
      "outputs": []
    },
    {
      "cell_type": "code",
      "source": [
        "favorite_food = input(\"Enter your favorite food: \")\n",
        "\n",
        "if favorite_food == \"Pizza\":\n",
        "  print(\"Your favorite food is pizza!\")\n",
        "else:\n",
        "  print(\"Your favorite food is not pizza\")"
      ],
      "metadata": {
        "id": "uOUVq7SsiEUb"
      },
      "execution_count": null,
      "outputs": []
    },
    {
      "cell_type": "code",
      "source": [
        "answer = input(\"What is the capital of Kenya: \")\n",
        "\n",
        "if answer != \"Nairobi\":\n",
        "  print(\"Incorrect!\")\n",
        "else:\n",
        "  print(\"Correct\")"
      ],
      "metadata": {
        "id": "xCyn844FiuoN"
      },
      "execution_count": null,
      "outputs": []
    },
    {
      "cell_type": "markdown",
      "source": [
        "## **2.5 For loops**\n",
        "- Lets us loop through special collections\n",
        "- Looping means accessing elements one at a time\n",
        "- A special collection can be a string, array, list, and more!\n",
        "- Uses the **for** keyword, consists of:\n",
        "  - **for** keyword\n",
        "  - A variable to store the value of the element we are currently accessing (iterating)\n",
        "  - **in** keyword\n",
        "  - The collection\n",
        "  - A colon:\n",
        "  - The actions we take on each access (iteration)\n",
        "- Easiest way to learn is by example"
      ],
      "metadata": {
        "id": "shH-MAiMjNjG"
      }
    },
    {
      "cell_type": "code",
      "source": [
        "# A string is a collection of characters, the means that it is formed by individual characters\n",
        "my_string = \"Let's do a loop!\" \n",
        "\n",
        "for letter in my_string:\n",
        "  print(letter)\n",
        "\n",
        "# With the above we are iterating thrugh the string and accessing\n",
        "# one character at a time and printing it. \n",
        "\n",
        "# The variable 'letter' is used at every iteration, it doesn't have to be\n",
        "# letter. Also, it only exists in the for loop. "
      ],
      "metadata": {
        "id": "Rb5OS-ezHBwA"
      },
      "execution_count": null,
      "outputs": []
    },
    {
      "cell_type": "markdown",
      "source": [
        "### Another use for the **in** operator\n",
        "- You can also use in with an if statement"
      ],
      "metadata": {
        "id": "jBsNzQBGfXSS"
      }
    },
    {
      "cell_type": "code",
      "source": [
        "my_string = \"Hello\"\n",
        "if 'e' in my_string:\n",
        "  print(my_string + \" contains e\")"
      ],
      "metadata": {
        "id": "leQMC_TNfgDy"
      },
      "execution_count": null,
      "outputs": []
    },
    {
      "cell_type": "markdown",
      "source": [
        "### Range function\n",
        "- Can use in a for loop to give us a collection of numbers\n",
        "- Example: **range(5)**\n",
        "  - Gives us a collection of numbers from 0 to 4 (it does not include 5)\n",
        "- Example: **range(4,10)**\n",
        "  - Gives us a collection of numbers from 4 to 9 (does not include the second number)"
      ],
      "metadata": {
        "id": "I3ymJuORIxYW"
      }
    },
    {
      "cell_type": "code",
      "source": [
        "# Let's loop 5 times\n",
        "for i in range(5):\n",
        "  print(i)\n",
        "for i in range(4,10):\n",
        "  print(i)"
      ],
      "metadata": {
        "id": "Cmfqs7QoIGNa"
      },
      "execution_count": null,
      "outputs": []
    },
    {
      "cell_type": "markdown",
      "source": [
        "### Using it with len()\n",
        "- We can use range() and len() to iterate through the length of a collection\n",
        "- For example let's use it with strings.\n"
      ],
      "metadata": {
        "id": "3yNn1J71JjCa"
      }
    },
    {
      "cell_type": "code",
      "source": [
        "my_string = \"four\"\n",
        "for i in range(len(my_string)):\n",
        "  print(my_string[i])\n",
        "  print(\"At index \" + str(i) + \" we find the letter \" + my_string[i])\n",
        "\n",
        "# In this case it is better to just do \"for letter in my_string:\", but \n",
        "# I included this example to illustrate the idea of range"
      ],
      "metadata": {
        "id": "r1AyOCMlJyjt"
      },
      "execution_count": null,
      "outputs": []
    },
    {
      "cell_type": "markdown",
      "source": [
        "### Some more examples with if statements!"
      ],
      "metadata": {
        "id": "uJbu0GE0KYBl"
      }
    },
    {
      "cell_type": "code",
      "source": [
        "# An example with an if statement\n",
        "\n",
        "my_string = \"Hello world\"\n",
        "for i in range(len(my_string)):\n",
        "  if i == 0:\n",
        "    print(\"This is the first character: \" + my_string[i])\n",
        "  elif i == (len(my_string) - 1): # Why do we add the minus 1?\n",
        "    print(\"This is my last character: \" + my_string[i])\n",
        "  else:\n",
        "    print(\"This is a some letter in the middle\")\n",
        "  "
      ],
      "metadata": {
        "id": "n1d1Zh42LMp9"
      },
      "execution_count": null,
      "outputs": []
    },
    {
      "cell_type": "code",
      "source": [
        "# Let's find how many letter 'o's there are in the following string\n",
        "my_string = \"if a dog chews shoes, whose shoes does he chew?\""
      ],
      "metadata": {
        "id": "u_PwXMZ6KeNU"
      },
      "execution_count": null,
      "outputs": []
    },
    {
      "cell_type": "markdown",
      "metadata": {
        "id": "dHaT9XLODw-7"
      },
      "source": [
        "## Exercises\n",
        "- If you need help always feel free to contact me!\n"
      ]
    },
    {
      "cell_type": "markdown",
      "source": [
        "### Exercise 1\n",
        "1.1 Add this string and this float and print the absolute value, the result should be 32.5"
      ],
      "metadata": {
        "id": "-hFGgLJzS5Qm"
      }
    },
    {
      "cell_type": "code",
      "source": [
        "num_1 = \"-30\"\n",
        "num_2 = -2.5\n",
        "\n",
        "# Write your answer below!"
      ],
      "metadata": {
        "id": "Vga3cuRSTK5G"
      },
      "execution_count": null,
      "outputs": []
    },
    {
      "cell_type": "markdown",
      "source": [
        "1.2 Get a number from the user and do the following:\n",
        "- If it's greater than 8 print out \"Greater than!\"\n",
        "- If it's equal to 8 print \"Equal to\"\n",
        "- If it's less than 8 below print \"Less than\""
      ],
      "metadata": {
        "id": "e-Y9bLScUQXD"
      }
    },
    {
      "cell_type": "code",
      "source": [
        "# Write your answer below!"
      ],
      "metadata": {
        "id": "nOGerisUV6e-"
      },
      "execution_count": null,
      "outputs": []
    },
    {
      "cell_type": "markdown",
      "source": [
        "### Exercise 2: Making a better calculator\n",
        "Make a program that:\n",
        "- Asks the user for a number\n",
        "- Asks the user for one of these operators: +, -, /, *\n",
        "- Asks the user for another number\n",
        "- Performs the operation with the two numbers and prints the result\n",
        "  - Example: User gives us 8, -, and 6\n",
        "  - Result should be 2 because 8 - 2 = 6"
      ],
      "metadata": {
        "id": "TUsj70cZWdWl"
      }
    },
    {
      "cell_type": "code",
      "source": [
        "# Put your code below!"
      ],
      "metadata": {
        "id": "KHbXBhx3X1Xu"
      },
      "execution_count": null,
      "outputs": []
    },
    {
      "cell_type": "markdown",
      "source": [
        "### Exercise 3 \n",
        "Loop through the string below and only print out the vowels\n",
        "- Challenge: can you use the if and in operators to simplify the conditions to just one?\n",
        "\n",
        "You should get (they will be on different lines): ouiea"
      ],
      "metadata": {
        "id": "u8aoDmIvd3Wk"
      }
    },
    {
      "cell_type": "code",
      "source": [
        "vowel_s = \"orquidea\"\n",
        "# Write your code below"
      ],
      "metadata": {
        "id": "NgHO9R39eKLE"
      },
      "execution_count": null,
      "outputs": []
    }
  ],
  "metadata": {
    "colab": {
      "collapsed_sections": [
        "rR5aTaICTFMC",
        "vsZUY5K-ETSI",
        "xjHEkZ8FFwWt",
        "J98bEscRImzs"
      ],
      "name": "Lesson2.ipynb",
      "provenance": [],
      "toc_visible": true,
      "authorship_tag": "ABX9TyPYSuGVMgk3JpiUhrsMLrAr",
      "include_colab_link": true
    },
    "kernelspec": {
      "display_name": "Python 3",
      "name": "python3"
    },
    "language_info": {
      "name": "python"
    }
  },
  "nbformat": 4,
  "nbformat_minor": 0
}