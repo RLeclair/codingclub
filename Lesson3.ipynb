{
  "cells": [
    {
      "cell_type": "markdown",
      "metadata": {
        "id": "view-in-github",
        "colab_type": "text"
      },
      "source": [
        "<a href=\"https://colab.research.google.com/github/RLeclair/codingclub/blob/master/Lesson3.ipynb\" target=\"_parent\"><img src=\"https://colab.research.google.com/assets/colab-badge.svg\" alt=\"Open In Colab\"/></a>"
      ]
    },
    {
      "cell_type": "markdown",
      "metadata": {
        "id": "QLTMS3MCQNnc"
      },
      "source": [
        "#**Lesson 3: Lists and Dictionaries!**\n",
        "\n",
        "### In lesson 3 we'll go over\n",
        "- 3.0 Review and Exercises\n",
        "- 3.1 Lists\n",
        "- 3.2 Tuples\n",
        "- 3.3 Dictionaries\n",
        "- Exercises\n",
        "\n",
        "\n"
      ]
    },
    {
      "cell_type": "markdown",
      "metadata": {
        "id": "rR5aTaICTFMC"
      },
      "source": [
        "## **3.0 Review and Exercises**\n",
        "### Last time we went over:\n",
        "- Working with numbers\n",
        "- Casting\n",
        "- Conditionals\n",
        "- Comparisons\n",
        "- For loops"
      ]
    },
    {
      "cell_type": "code",
      "source": [
        "# Working with numbers\n",
        "number_1 = 4 + 5 - 8 * (9 / 3) # We went over operations that you can do with numbers\n",
        "number_2 = max(5,3)# We went over some functions you can do as well\n",
        "\n",
        "#print(number_1)\n",
        "#print(number_2)\n",
        "\n",
        "# Casting: changing a variable's type to another\n",
        "#print(\"This is number 1: \" + str(number_1)) # in this case we are changing to a number to a string\n",
        "\n",
        "# Conditionals: Allowing the computer to make decisions\n",
        "if number_2 == 5:\n",
        "  print(\"Number_2 is equal to 5\")\n",
        "elif number_2 == 3:\n",
        "  print(\"Number_2 is equal to 3\")\n",
        "else:\n",
        "  print(\"Number 2 is some other number\")\n",
        "\n",
        "\n",
        "# For loops: Allows us to loop through collections\n",
        "\n",
        "my_string = \"This is a loop!\"\n",
        "\n",
        "for letter in my_string:\n",
        "  print(letter)\n",
        "  "
      ],
      "metadata": {
        "id": "VcncRbjIy2Jx"
      },
      "execution_count": null,
      "outputs": []
    },
    {
      "cell_type": "markdown",
      "source": [
        "## Last Week's exercises"
      ],
      "metadata": {
        "id": "5sqt16-w1LUm"
      }
    },
    {
      "cell_type": "markdown",
      "source": [
        "### Exercise 1\n",
        "1.1 Add this string and this float and print the absolute value, the result should be 32.5"
      ],
      "metadata": {
        "id": "gUWkoReE1S2Y"
      }
    },
    {
      "cell_type": "code",
      "source": [
        "num_1 = \"-30\"\n",
        "num_2 = -2.5\n",
        "\n",
        "# Write your answer below!\n",
        "result = abs(int(num_1) + num_2)\n",
        "print(result)"
      ],
      "metadata": {
        "id": "6xumKieg1qTw"
      },
      "execution_count": null,
      "outputs": []
    },
    {
      "cell_type": "markdown",
      "source": [
        "1.2 Get a number from the user and do the following:\n",
        "- If it's greater than 8 print out \"Greater than!\"\n",
        "- If it's equal to 8 print \"Equal to\"\n",
        "- If it's less than 8 below print \"Less than\""
      ],
      "metadata": {
        "id": "hX1I29Z21V-9"
      }
    },
    {
      "cell_type": "code",
      "source": [
        "# Write your answer below!\n",
        "user_number = int(input(\"Please enter a number: \"))\n",
        "if user_number > 8:\n",
        "  print(\"Greater than!\")\n",
        "elif user_number == 8:\n",
        "  print(\"Equal to\")\n",
        "elif user_number < 8: # this could have also just been an else statement\n",
        "  print(\"Less than\")"
      ],
      "metadata": {
        "id": "2K7w2DbD1p1o",
        "colab": {
          "base_uri": "https://localhost:8080/"
        },
        "outputId": "370db649-2b5a-4107-9525-f3b0baecbfcf"
      },
      "execution_count": null,
      "outputs": [
        {
          "output_type": "stream",
          "name": "stdout",
          "text": [
            "Please enter a number: 8\n",
            "Equal to\n"
          ]
        }
      ]
    },
    {
      "cell_type": "markdown",
      "source": [
        "### Exercise 2: Making a better calculator\n",
        "Make a program that:\n",
        "- Asks the user for a number\n",
        "- Asks the user for one of these operators: +, -, /, *\n",
        "- Asks the user for another number\n",
        "- Performs the operation with the two numbers and prints the result\n",
        "  - Example: User gives us 8, -, and 6\n",
        "  - Result should be 2 because 8 - 2 = 6"
      ],
      "metadata": {
        "id": "OTPdvE9A1ZvX"
      }
    },
    {
      "cell_type": "code",
      "source": [
        "# Put your code below!\n",
        "user_number1 = int(input(\"Please enter the first number: \"))\n",
        "operation = input(\"Please enter an operation +, -, /, *\")\n",
        "user_number2 = int(input(\"Please enter the second number: \"))\n",
        "\n",
        "if operation == \"+\":\n",
        "  result = user_number1 + user_number2\n",
        "  print(result)\n",
        "elif operation == \"-\":\n",
        "  result = user_number1 - user_number2\n",
        "  print(result)\n",
        "elif operation == \"/\":\n",
        "  result = user_number1 / user_number2\n",
        "  print(result)\n",
        "elif operation == \"*\":\n",
        "  result = user_number1 * user_number2\n",
        "  print(result)\n",
        "else:\n",
        "  print(\"The operation entered is not supported\")"
      ],
      "metadata": {
        "id": "56shTrSK2VWh"
      },
      "execution_count": null,
      "outputs": []
    },
    {
      "cell_type": "markdown",
      "source": [
        "### Exercise 3 \n",
        "Loop through the string below and only print out the vowels\n",
        "- Challenge: can you use the if and in operators to simplify the conditions to just one?\n",
        "\n",
        "You should get (they will be on different lines): ouiea"
      ],
      "metadata": {
        "id": "M4iRKGJV1d3A"
      }
    },
    {
      "cell_type": "code",
      "source": [
        "# Way 1\n",
        "vowel_s = \"orquidea\"\n",
        "# Write your code below\n",
        "for letter in vowel_s:\n",
        "  if letter == 'a' or letter == 'e' or letter == 'i' or letter == 'o' or letter == 'u':\n",
        "    print(letter)"
      ],
      "metadata": {
        "id": "II9fL3Mr3GjE"
      },
      "execution_count": null,
      "outputs": []
    },
    {
      "cell_type": "code",
      "source": [
        "# Way 2\n",
        "vowel_s = \"orquidea\"\n",
        "# Write your code below\n",
        "for letter in vowel_s:\n",
        "  if letter in \"aeiouq\":\n",
        "    print(letter)"
      ],
      "metadata": {
        "id": "dsTMTRol3VWU"
      },
      "execution_count": null,
      "outputs": []
    },
    {
      "cell_type": "markdown",
      "metadata": {
        "id": "yr7ENmxHzBc3"
      },
      "source": [
        "## **3.1 Lists**\n",
        "- When we are programming we deal with a lot of data so we want a way to store, organize, and manage it. Lists let us do that.\n",
        "- We can organize different data values sequentially"
      ]
    },
    {
      "cell_type": "code",
      "source": [
        "# To declare a list use square brackets []\n",
        "# Place the items you want to store within the square brackets separated by commas\n",
        "\n",
        "animal_list = [\"dog\", \"tiger\", \"dolphin\", \"bear\"] # Generally want to give lists a descriptive name\n",
        "favorite_numbers = [0, 7, 3]\n",
        "boolean_list = [True, False, True, False]\n",
        "\n",
        "# A list does not have to store variables of the same type!\n",
        "my_list = [True, 1, 3.0, \"hello\"]\n",
        "\n",
        "# Let's print a list \n",
        "print(animal_list)"
      ],
      "metadata": {
        "id": "_YhuSMYxRVJJ"
      },
      "execution_count": null,
      "outputs": []
    },
    {
      "cell_type": "markdown",
      "source": [
        "### Indexing into lists\n",
        "- Once we declare a list we can access specific elements by using square brackets on the list variable"
      ],
      "metadata": {
        "id": "3myX2dts8yoZ"
      }
    },
    {
      "cell_type": "code",
      "source": [
        "# Declare my list\n",
        "colors = [\"Blue\", \"Red\", \"White\", \"Black\", \"Yellow\"]\n",
        "# Indexes:  0       1       2        3         4\n",
        "# Let's access Red, remember that in Python we start counting from zero\n",
        "# print(colors[1])\n",
        "# Let's access yellow\n",
        "print(colors[4])"
      ],
      "metadata": {
        "id": "S4EjvxSd8_05",
        "colab": {
          "base_uri": "https://localhost:8080/"
        },
        "outputId": "c66a8dc6-88c2-47e6-b351-0a4347e5571b"
      },
      "execution_count": null,
      "outputs": [
        {
          "output_type": "stream",
          "name": "stdout",
          "text": [
            "Yellow\n"
          ]
        }
      ]
    },
    {
      "cell_type": "markdown",
      "source": [
        "What if we wanted to access the last element?\n",
        "- We can index from the end as well!"
      ],
      "metadata": {
        "id": "XplC-mH8rdrL"
      }
    },
    {
      "cell_type": "code",
      "source": [
        "# Let's use the same list:\n",
        "colors = [\"Blue\", \"Red\", \"White\", \"Black\", \"Yellow\"]\n",
        "# Indexes   -5     -4      -3       -2        -1\n",
        "# Let's access the last element\n",
        "#print(colors[-1])\n",
        "\n",
        "# Let's access the first element\n",
        "print(colors[-5])\n",
        "\n",
        "# Remember, from the front the first element is zero, from the back (the last) it is -1"
      ],
      "metadata": {
        "id": "JRF8kIVmrdYZ",
        "colab": {
          "base_uri": "https://localhost:8080/"
        },
        "outputId": "c1f72f16-a984-4992-aba2-8a9f144f62ba"
      },
      "execution_count": null,
      "outputs": [
        {
          "output_type": "stream",
          "name": "stdout",
          "text": [
            "Blue\n"
          ]
        }
      ]
    },
    {
      "cell_type": "markdown",
      "source": [
        "What if we wanted to grab every element after a specific element?\n",
        "- We can use the index of the element after the specific element and add a colon, that will give us a list of elements only after that one."
      ],
      "metadata": {
        "id": "JPbxPhUosGAk"
      }
    },
    {
      "cell_type": "code",
      "source": [
        "# Let's use the same list\n",
        "colors = [\"Blue\", \"Red\", \"White\", \"Black\", \"Yellow\"]\n",
        "# Indexes:  0       1       2        3         4\n",
        "# What if we only wanted the elements after red\n",
        "print(colors[2:])"
      ],
      "metadata": {
        "id": "ujZ33QfgsXJS",
        "colab": {
          "base_uri": "https://localhost:8080/"
        },
        "outputId": "58de922c-f84e-4a63-98b4-960a73b6871c"
      },
      "execution_count": null,
      "outputs": [
        {
          "output_type": "stream",
          "name": "stdout",
          "text": [
            "['White', 'Black', 'Yellow']\n"
          ]
        }
      ]
    },
    {
      "cell_type": "markdown",
      "source": [
        "What if we wanted to grab a range of elements?\n",
        "- We can do that, we can specify the first element and then add a colon and specify the last element which would not be included."
      ],
      "metadata": {
        "id": "6dyI1lgls0S1"
      }
    },
    {
      "cell_type": "code",
      "source": [
        "# Let's use the same list\n",
        "colors = [\"Blue\", \"Red\", \"White\", \"Black\", \"Yellow\"]\n",
        "# Indexes:  0       1       2        3         4\n",
        "\n",
        "# Say we want from Red to Black\n",
        "print(colors[1:3])\n",
        "\n",
        "# 1 is the first element\n",
        "# 4 is the last element (not included)\n",
        "\n",
        "# We can modify elements of the list "
      ],
      "metadata": {
        "id": "yt943uY68VDh"
      },
      "execution_count": null,
      "outputs": []
    },
    {
      "cell_type": "markdown",
      "source": [
        "We can also modify lists"
      ],
      "metadata": {
        "id": "XWSmf8VOuG5P"
      }
    },
    {
      "cell_type": "code",
      "source": [
        "# Let's use the same list\n",
        "colors = [\"Blue\", \"Red\", \"White\", \"Black\", \"Yellow\"]\n",
        "# Indexes:  0       1       2        3         4\n",
        "\n",
        "# Say we wanted to change White to Green\n",
        "colors[2] = \"Green\"\n",
        "print(colors)"
      ],
      "metadata": {
        "id": "Cv7O-vkruIaS",
        "colab": {
          "base_uri": "https://localhost:8080/"
        },
        "outputId": "1d531189-5092-4ef6-efe6-2ecc00de8f8e"
      },
      "execution_count": null,
      "outputs": [
        {
          "output_type": "stream",
          "name": "stdout",
          "text": [
            "['Blue', 'Red', 'Green', 'Black', 'Yellow']\n"
          ]
        }
      ]
    },
    {
      "cell_type": "markdown",
      "source": [
        "### List functions\n",
        "- There are many useful functions for manipulating and obtaining data from lists. Some them are:\n",
        "  - print: Allows us to print the content\n",
        "  - extend: Allows us to add another list to an existing one\n",
        "  - append: Lets us add one more element to the end of the list\n",
        "  - insert: Lets us insert an element at an index of our choosing\n",
        "  - remove: Lets us remove an element\n",
        "  - clear: Empties a list\n",
        "  - pop: takes out the last element of a list\n",
        "  - index: will give us the index of an element or fail if not there\n",
        "  - count: will tell us how many times a value appears on a list\n",
        "  - sort: Will sort a list in ascending order.\n",
        "  - reverse: will reverse a list (e.g last goes to first, second to last goes to second, etc.)\n",
        "  - copy: will generate another list from an existing list (just a copy)"
      ],
      "metadata": {
        "id": "5WBtjOzFuWJ7"
      }
    },
    {
      "cell_type": "code",
      "source": [
        "# print\n",
        "colors = [\"Red\", \"Green\", \"Blue\"]\n",
        "print(colors) # remember that for functions the arguments (if any) go in the parentheses\n",
        "# A function still needs the parentheses even if there are not arguments"
      ],
      "metadata": {
        "id": "z4YefmYeaKGQ",
        "colab": {
          "base_uri": "https://localhost:8080/"
        },
        "outputId": "100ead6d-b353-4dc6-bf18-5260b9f7df87"
      },
      "execution_count": null,
      "outputs": [
        {
          "output_type": "stream",
          "name": "stdout",
          "text": [
            "['Red', 'Green', 'Blue']\n"
          ]
        }
      ]
    },
    {
      "cell_type": "code",
      "source": [
        "# extend\n",
        "numbers_1 = [1,2,3,4]\n",
        "numbers_2 = [5,6,7,8]\n",
        "\n",
        "# we will add numbers_2 to numbers_1\n",
        "numbers_1.extend(numbers_2)\n",
        "print(numbers_1)"
      ],
      "metadata": {
        "id": "t0i8DC9-v7Fe"
      },
      "execution_count": null,
      "outputs": []
    },
    {
      "cell_type": "code",
      "source": [
        "# append \n",
        "colors = [\"Red\", \"Green\", \"Blue\"]\n",
        "\n",
        "# Let's add yellow\n",
        "colors.append(\"Yellow\")\n",
        "print(colors)"
      ],
      "metadata": {
        "id": "SuY-8XJdwRK-",
        "colab": {
          "base_uri": "https://localhost:8080/"
        },
        "outputId": "3f710c96-acc2-43bb-cec3-cb815ac938a1"
      },
      "execution_count": null,
      "outputs": [
        {
          "output_type": "stream",
          "name": "stdout",
          "text": [
            "['Red', 'Green', 'Blue', 'Yellow']\n"
          ]
        }
      ]
    },
    {
      "cell_type": "code",
      "source": [
        "# insert\n",
        "numbers = [1,2,4]\n",
        "#          0 1 2\n",
        "# Insert function: numbers.insert([index], [value to insert])\n",
        "\n",
        "# Let's insert 5\n",
        "numbers.insert(3,5) # We choose to insert at 3 which is the last index in this case\n",
        "#print(numbers)\n",
        "# Let's insert 3\n",
        "numbers.insert(2,3) # We insert at index 2 as it is after value 2\n",
        "print(numbers)"
      ],
      "metadata": {
        "id": "0D9SlsLAgq5G",
        "colab": {
          "base_uri": "https://localhost:8080/"
        },
        "outputId": "47b63627-6ae0-4de8-f714-af68c6668948"
      },
      "execution_count": null,
      "outputs": [
        {
          "output_type": "stream",
          "name": "stdout",
          "text": [
            "[1, 2, 3, 4, 5]\n"
          ]
        }
      ]
    },
    {
      "cell_type": "code",
      "source": [
        "# remove\n",
        "colors = [\"Red\", \"Green\", \"Blue\"]\n",
        "\n",
        "# Let's remove green\n",
        "colors.remove(\"Green\") # We tell the function what element we want to remove\n",
        "\n",
        "print(colors)"
      ],
      "metadata": {
        "id": "fXi-SyMthb5H",
        "colab": {
          "base_uri": "https://localhost:8080/"
        },
        "outputId": "a489aa8a-c002-4dfd-e3a7-409533362918"
      },
      "execution_count": null,
      "outputs": [
        {
          "output_type": "stream",
          "name": "stdout",
          "text": [
            "['Red', 'Blue']\n"
          ]
        }
      ]
    },
    {
      "cell_type": "code",
      "source": [
        "# clear\n",
        "colors = [\"Red\", \"Green\", \"Blue\"]\n",
        "\n",
        "# Let's empty this list\n",
        "colors.clear()\n",
        "print(colors)"
      ],
      "metadata": {
        "id": "L9qpU5EuhqfD",
        "colab": {
          "base_uri": "https://localhost:8080/"
        },
        "outputId": "12e0127e-747f-495a-d74e-04da82ddbe75"
      },
      "execution_count": null,
      "outputs": [
        {
          "output_type": "stream",
          "name": "stdout",
          "text": [
            "[]\n"
          ]
        }
      ]
    },
    {
      "cell_type": "code",
      "source": [
        "# pop\n",
        "numbers = [1,2,3,4]\n",
        "\n",
        "# Let's do a pop, basically this removes the last element, in this case 4\n",
        "numbers.pop()\n",
        "\n",
        "print(numbers)"
      ],
      "metadata": {
        "id": "PVka1w8UjKZe"
      },
      "execution_count": null,
      "outputs": []
    },
    {
      "cell_type": "code",
      "source": [
        "# index\n",
        "colors = [\"Red\", \"Green\", \"Blue\"]\n",
        "\n",
        "# Let's see what the index of blue is, should be 2 (remember we index from 0)\n",
        "print(colors.index(\"Blue\"))\n",
        "\n",
        "# Let's see what we get from yellow\n",
        "# print(colors.index(\"Yellow\"))"
      ],
      "metadata": {
        "id": "7-8p2YR0jjcZ"
      },
      "execution_count": null,
      "outputs": []
    },
    {
      "cell_type": "code",
      "source": [
        "# count\n",
        "colors = [\"Red\", \"Red\", \"Yellow\", \"Blue\"]\n",
        "\n",
        "# Let's see how many reds there are, should be two\n",
        "#print(colors.count(\"Red\"))\n",
        "\n",
        "# Let's see if there is a green\n",
        "print(colors.count(\"Green\"))"
      ],
      "metadata": {
        "id": "GdO3RbeakCli",
        "colab": {
          "base_uri": "https://localhost:8080/"
        },
        "outputId": "f412fd85-d823-435a-94c9-864da635ae4c"
      },
      "execution_count": null,
      "outputs": [
        {
          "output_type": "stream",
          "name": "stdout",
          "text": [
            "0\n"
          ]
        }
      ]
    },
    {
      "cell_type": "code",
      "source": [
        "# sort\n",
        "sort_numbers = [5,4,3,2,1]\n",
        "sort_letters = [\"d\",\"c\",\"b\",\"a\"]\n",
        "\n",
        "# The sort function will sort the list in ascending order\n",
        "sort_numbers.sort()\n",
        "sort_letters.sort()\n",
        "\n",
        "#print(sort_numbers)\n",
        "print(sort_letters)"
      ],
      "metadata": {
        "id": "0mSwYDVbkV9T",
        "colab": {
          "base_uri": "https://localhost:8080/"
        },
        "outputId": "77e7c0e9-23e2-43db-a2c7-35b0f09e6d4a"
      },
      "execution_count": null,
      "outputs": [
        {
          "output_type": "stream",
          "name": "stdout",
          "text": [
            "['a', 'b', 'c', 'd']\n"
          ]
        }
      ]
    },
    {
      "cell_type": "code",
      "source": [
        "# reverse\n",
        "numbers = [1,2,3,4,5]\n",
        "\n",
        "# The reverse function will reverse a list!\n",
        "numbers.reverse()\n",
        "print(numbers)"
      ],
      "metadata": {
        "id": "ZQBmdW37ppv0",
        "colab": {
          "base_uri": "https://localhost:8080/"
        },
        "outputId": "99e1d73c-9920-4e3b-b11f-bddd4b497120"
      },
      "execution_count": null,
      "outputs": [
        {
          "output_type": "stream",
          "name": "stdout",
          "text": [
            "[5, 4, 3, 2, 1]\n"
          ]
        }
      ]
    },
    {
      "cell_type": "code",
      "source": [
        "#copy\n",
        "list_1 = [\"hello\", \"world\"]\n",
        "\n",
        "# I can make a copy of list_1 with the copy() function\n",
        "list_2 = list_1.copy()\n",
        "list_1.append(\"!\")\n",
        "\n",
        "print(list_2)\n",
        "print(list_1)"
      ],
      "metadata": {
        "id": "wla4RsmLp2eX"
      },
      "execution_count": null,
      "outputs": []
    },
    {
      "cell_type": "markdown",
      "source": [
        "## **3.2 Tuples**\n",
        "- The same as lists except for one thing\n",
        "  - They can't be changed (they are immutable)"
      ],
      "metadata": {
        "id": "CPr6tgQsuOR4"
      }
    },
    {
      "cell_type": "code",
      "source": [
        "# To declare a tuple, it is the same as a list, except you use parentheses\n",
        "my_colors = (\"Red\", \"Blue\")"
      ],
      "metadata": {
        "id": "g3AHhGUvuZew"
      },
      "execution_count": null,
      "outputs": []
    },
    {
      "cell_type": "code",
      "source": [
        "# We can access items by indexing in the same manner as with lists\n",
        "my_colors = (\"Red\", \"Blue\")\n",
        "print(my_colors[1])"
      ],
      "metadata": {
        "id": "Zx6xQkpIums0"
      },
      "execution_count": null,
      "outputs": []
    },
    {
      "cell_type": "code",
      "source": [
        "# Let's see what happens when we try to change it\n",
        "my_colors = (\"Red\", \"Blue\")\n",
        "my_colors[0] = \"Green\""
      ],
      "metadata": {
        "id": "Vkn8BNGsu5d4"
      },
      "execution_count": null,
      "outputs": []
    },
    {
      "cell_type": "markdown",
      "source": [
        "## **3.3 Dictionaries**\n",
        "- Very similar to real life dictionaries\n",
        "- They store key-value pairs\n",
        "  - Key: the word in a dictionary, can be a string or a number!\n",
        "  - Value: the definition of the word\n",
        "- Important rule, keys are unique, that means you can't have duplicates\n",
        "  - Think about the word apple having two definitions in the dictionary, that wouldn't work!\n"
      ],
      "metadata": {
        "id": "_uBPZJHcvRHf"
      }
    },
    {
      "cell_type": "code",
      "source": [
        "# Declaring a dictionary, you use curly brackets and within you specify [key] : [value]\n",
        "# You separate pairs by using a comma\n",
        "actual_dictionary = {\n",
        "    \"apple\" : \"A red fruit\",\n",
        "    \"orange\" : \"An orange fruit\",\n",
        "    \"pear\" : \"A green fruit\"\n",
        "}"
      ],
      "metadata": {
        "id": "IAAf2AuKbRoT"
      },
      "execution_count": null,
      "outputs": []
    },
    {
      "cell_type": "code",
      "source": [
        "# We can access different values in a similar way to lists and tuples but instead we use \n",
        "# the key\n",
        "actual_dictionary = {\n",
        "    \"apple\" : \"A red fruit\",\n",
        "    \"orange\" : \"An orange fruit\",\n",
        "    \"pear\" : \"A green fruit\"\n",
        "}\n",
        "print(actual_dictionary[\"pear\"])"
      ],
      "metadata": {
        "id": "1PSNt1tXwLlt"
      },
      "execution_count": null,
      "outputs": []
    },
    {
      "cell_type": "code",
      "source": [
        "# Can also obtain values using the .get() function\n",
        "# difference is that we can specify a default value in case the key is not there\n",
        "actual_dictionary = {\n",
        "    \"apple\" : \"A red fruit\",\n",
        "    \"orange\" : \"An orange fruit\",\n",
        "    \"pear\" : \"A green fruit\"\n",
        "}\n",
        "\n",
        "# Similar to using brackets\n",
        "print(actual_dictionary.get(\"apple\"))\n",
        "\n",
        "# If we add another argument we specify a default value that we are given in case the key isn't there\n",
        "print(actual_dictionary.get(\"carrot\",\"That's not in this dictionary!\"))"
      ],
      "metadata": {
        "id": "9WsNum8BxVt5"
      },
      "execution_count": null,
      "outputs": []
    },
    {
      "cell_type": "markdown",
      "metadata": {
        "id": "dHaT9XLODw-7"
      },
      "source": [
        "## Exercises together\n",
        "- Let's do these together\n"
      ]
    },
    {
      "cell_type": "markdown",
      "source": [
        "### Exercise 1: Create a list of tuples"
      ],
      "metadata": {
        "id": "90u0WTdW5Qy5"
      }
    },
    {
      "cell_type": "code",
      "source": [
        "my_list = [(\"Supermarket\", \"Walmart\"),(\"Coffee shop\",\"Starbucks\")]"
      ],
      "metadata": {
        "id": "9tnTHwmlvIdY"
      },
      "execution_count": null,
      "outputs": []
    },
    {
      "cell_type": "markdown",
      "source": [
        "### Exercise 2: Use a for loop on the list below\n"
      ],
      "metadata": {
        "id": "ms0q-2OM5XK2"
      }
    },
    {
      "cell_type": "code",
      "source": [
        "languages = [\"Spanish\", \"English\", \"German\", \"Swahili\", \"Korean\"] \n",
        "for language in languages:\n",
        "  print(language)"
      ],
      "metadata": {
        "id": "OXKsgDeC5bue"
      },
      "execution_count": null,
      "outputs": []
    },
    {
      "cell_type": "markdown",
      "source": [
        "### Exercise 3: Get an input from the user and find it's definition from the dictionary below"
      ],
      "metadata": {
        "id": "eqazFO3Z6B-u"
      }
    },
    {
      "cell_type": "code",
      "source": [
        "words = {\n",
        "    \"dive\" : \"submerge\",\n",
        "    \"reverse\" : \"opposite to a previous condition\",\n",
        "    \"define\" : \"to determine the meaning of\",\n",
        "    \"tourist\" : \"one that makes a tour for pleasure\",\n",
        "    \"agent\" : \"a representative\",\n",
        "    \"school\" : \"an organization that educates\"\n",
        "}\n",
        "print(words.get(input(\"Enter word: \"),\"The word is not in my dictionary\"))"
      ],
      "metadata": {
        "id": "V1YuMRr66Jw3"
      },
      "execution_count": null,
      "outputs": []
    },
    {
      "cell_type": "markdown",
      "source": [
        "## Other exercises!\n",
        "- Again, feel free to contact me anytime for them!"
      ],
      "metadata": {
        "id": "3i_lg_947Qbv"
      }
    },
    {
      "cell_type": "markdown",
      "source": [
        "### Exercises for lists"
      ],
      "metadata": {
        "id": "1Dce7DlA8Dgc"
      }
    },
    {
      "cell_type": "code",
      "source": [
        "# Print the second item in the following list\n",
        "fruits = [\"apple\", \"banana\", \"cherry\"]"
      ],
      "metadata": {
        "id": "xxitzLMt7U8D"
      },
      "execution_count": null,
      "outputs": []
    },
    {
      "cell_type": "code",
      "source": [
        "# Change the value from apple to kiwi\n",
        "fruits = [\"apple\", \"banana\", \"cherry\"]\n",
        "# Put your code below!\n",
        "\n",
        "print(fruits)"
      ],
      "metadata": {
        "id": "hpe-gjn38JLi"
      },
      "execution_count": null,
      "outputs": []
    },
    {
      "cell_type": "code",
      "source": [
        "# Use append to add orange to this list\n",
        "fruits = [\"apple\", \"banana\", \"cherry\"]\n",
        "# Put your code below!\n",
        "\n",
        "print(fruits)"
      ],
      "metadata": {
        "id": "-OrAD0Rf8apr"
      },
      "execution_count": null,
      "outputs": []
    },
    {
      "cell_type": "code",
      "source": [
        "# Use a range of indexes to print the third, fourth, and fifth item!\n",
        "fruits = [\"apple\", \"banana\", \"cherry\", \"orange\", \"kiwi\", \"melon\", \"mango\"]\n",
        "\n",
        "# Put your code below!"
      ],
      "metadata": {
        "id": "rKgpW-h-8kZ5"
      },
      "execution_count": null,
      "outputs": []
    },
    {
      "cell_type": "markdown",
      "source": [
        "### Exercises for tuples"
      ],
      "metadata": {
        "id": "iw3yxcl1874U"
      }
    },
    {
      "cell_type": "code",
      "source": [
        "# Print out the first item in the tuple below\n",
        "fruits = (\"apple\", \"banana\", \"cherry\")"
      ],
      "metadata": {
        "id": "rFR76Vru8_lR"
      },
      "execution_count": null,
      "outputs": []
    },
    {
      "cell_type": "markdown",
      "source": [
        "### Exercises for dictionaries"
      ],
      "metadata": {
        "id": "-DKG_wPq9NT9"
      }
    },
    {
      "cell_type": "code",
      "source": [
        "# Use the get method to print the value of the \"model\" key of the car dictionary\n",
        "car =\t{\n",
        "  \"brand\": \"Ford\",\n",
        "  \"model\": \"Mustang\",\n",
        "  \"year\": 1964\n",
        "}"
      ],
      "metadata": {
        "id": "9AXUx46X9Pf2"
      },
      "execution_count": null,
      "outputs": []
    }
  ],
  "metadata": {
    "colab": {
      "collapsed_sections": [],
      "name": "Lesson3.ipynb",
      "provenance": [],
      "authorship_tag": "ABX9TyOb524T9i6e8al90MrYLSjE",
      "include_colab_link": true
    },
    "kernelspec": {
      "display_name": "Python 3",
      "name": "python3"
    },
    "language_info": {
      "name": "python"
    }
  },
  "nbformat": 4,
  "nbformat_minor": 0
}