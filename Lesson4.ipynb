{
  "cells": [
    {
      "cell_type": "markdown",
      "metadata": {
        "id": "view-in-github",
        "colab_type": "text"
      },
      "source": [
        "<a href=\"https://colab.research.google.com/github/RLeclair/codingclub/blob/master/Lesson4.ipynb\" target=\"_parent\"><img src=\"https://colab.research.google.com/assets/colab-badge.svg\" alt=\"Open In Colab\"/></a>"
      ]
    },
    {
      "cell_type": "markdown",
      "metadata": {
        "id": "QLTMS3MCQNnc"
      },
      "source": [
        "#**Lesson 4: While and Functions!**\n",
        "\n",
        "### In lesson 4 we'll go over\n",
        "- 4.0 Review and Exercises\n",
        "- 4.1 While loops\n",
        "- 4.2 Functions\n",
        "- Exercises\n",
        "\n",
        "\n"
      ]
    },
    {
      "cell_type": "markdown",
      "metadata": {
        "id": "rR5aTaICTFMC"
      },
      "source": [
        "## **4.0 Review and Exercises**\n",
        "### Last time we went over:\n",
        "- Lists\n",
        "- Tuples\n",
        "- Dictionaries"
      ]
    },
    {
      "cell_type": "code",
      "source": [
        "# Lists\n",
        "\n",
        "# To declare a list we place the items inside square brackets separated by commas\n",
        "my_list = [\"Item 1\", \"Item 2\", \"Item 3\",\"Item 4\",\"Item 5\"]\n",
        "\n",
        "# We can get an item from the list by indexing into it (remember 0 indexing)\n",
        "# print(my_list[1])\n",
        "\n",
        "# Can also access from the back\n",
        "# print(my_list[-1])\n",
        "\n",
        "# We can also access a specific range\n",
        "# print(my_list[1:]) # Gives us everything from index 1 onward\n",
        "# print(my_list[1:3]) # Gives us everything from index 1 to index 2 (3 is not included)\n",
        "\n",
        "# We can modify an element inside a list\n",
        "my_list[1] = \"Item 6\"\n",
        "# print(my_list)\n",
        "\n",
        "# There are many functions we can use for lists\n",
        "# Append: Appends an element to the end of the list\n",
        "my_list.append(\"New Item\")\n",
        "#print(my_list)\n",
        "\n",
        "# Remove: Removes an element from the list\n",
        "my_list.remove(\"Item 4\")\n",
        "# print(my_list)"
      ],
      "metadata": {
        "id": "VcncRbjIy2Jx",
        "colab": {
          "base_uri": "https://localhost:8080/"
        },
        "outputId": "384a8c21-75d7-4766-b8d4-4fbee84bbae9"
      },
      "execution_count": null,
      "outputs": [
        {
          "output_type": "stream",
          "name": "stdout",
          "text": [
            "['Item 1', 'Item 6', 'Item 3', 'Item 5', 'New Item']\n"
          ]
        }
      ]
    },
    {
      "cell_type": "code",
      "source": [
        "# Tuples\n",
        "# The same as a list but they can't be changed, use parentheses instead of brackets\n",
        "my_tuple = (\"Item 1\", \"Item 2\", \"Item 3\")\n",
        "\n",
        "print(my_tuple)\n",
        "print(my_tuple[0])"
      ],
      "metadata": {
        "id": "62h4aJ3OR-EM"
      },
      "execution_count": null,
      "outputs": []
    },
    {
      "cell_type": "code",
      "source": [
        "# Dictionaries\n",
        "# Similar to real life dictionaries, store key-value pairs\n",
        "# Can't have two of the same key\n",
        "actual_dictionary = {\n",
        "    \"apple\" : \"A red fruit\", # apple is the key, a red fruit is the value\n",
        "    \"orange\" : \"An orange fruit\",\n",
        "    \"pear\" : \"A green fruit\"\n",
        "}\n",
        "\n",
        "# Can access values by using brackets\n",
        "# print(actual_dictionary[\"apple\"])\n",
        "\n",
        "# Can also access values using the get function, where you can also specify a default value,\n",
        "# in case the value does not exist\n",
        "print(actual_dictionary.get(\"avocado\",\"Hello\"))"
      ],
      "metadata": {
        "colab": {
          "base_uri": "https://localhost:8080/"
        },
        "id": "Lw6x8OR3S8tZ",
        "outputId": "124c53c1-d8ab-4fba-f9d8-02951a2ed908"
      },
      "execution_count": null,
      "outputs": [
        {
          "output_type": "stream",
          "name": "stdout",
          "text": [
            "Hello\n"
          ]
        }
      ]
    },
    {
      "cell_type": "markdown",
      "source": [
        "## Last Week's exercises"
      ],
      "metadata": {
        "id": "5sqt16-w1LUm"
      }
    },
    {
      "cell_type": "markdown",
      "source": [
        "### Exercises for lists"
      ],
      "metadata": {
        "id": "1Dce7DlA8Dgc"
      }
    },
    {
      "cell_type": "code",
      "source": [
        "# Print the second item in the following list\n",
        "fruits = [\"apple\", \"banana\", \"cherry\"]\n",
        "print(fruits[1])"
      ],
      "metadata": {
        "id": "xxitzLMt7U8D",
        "colab": {
          "base_uri": "https://localhost:8080/"
        },
        "outputId": "8299ce9d-3d61-4578-8be3-002a9fe2db60"
      },
      "execution_count": null,
      "outputs": [
        {
          "output_type": "stream",
          "name": "stdout",
          "text": [
            "banana\n"
          ]
        }
      ]
    },
    {
      "cell_type": "code",
      "source": [
        "# Change the value from apple to kiwi\n",
        "fruits = [\"apple\", \"banana\", \"cherry\"]\n",
        "# Put your code below!\n",
        "fruits[0] = \"kiwi\"\n",
        "print(fruits)"
      ],
      "metadata": {
        "id": "hpe-gjn38JLi"
      },
      "execution_count": null,
      "outputs": []
    },
    {
      "cell_type": "code",
      "source": [
        "# Use append to add orange to this list\n",
        "fruits = [\"apple\", \"banana\", \"cherry\"]\n",
        "# Put your code below!\n",
        "fruits.append(\"orange\")\n",
        "print(fruits)"
      ],
      "metadata": {
        "id": "-OrAD0Rf8apr",
        "colab": {
          "base_uri": "https://localhost:8080/"
        },
        "outputId": "fe89f628-8d9b-49e4-cdb6-286d11c44542"
      },
      "execution_count": null,
      "outputs": [
        {
          "output_type": "stream",
          "name": "stdout",
          "text": [
            "['apple', 'banana', 'cherry', 'orange']\n"
          ]
        }
      ]
    },
    {
      "cell_type": "code",
      "source": [
        "# Use a range of indexes to print the third, fourth, and fifth item!\n",
        "fruits = [\"apple\", \"banana\", \"cherry\", \"orange\", \"kiwi\", \"melon\", \"mango\"]\n",
        "# Put your code below!\n",
        "print(fruits[2:5])"
      ],
      "metadata": {
        "id": "rKgpW-h-8kZ5"
      },
      "execution_count": null,
      "outputs": []
    },
    {
      "cell_type": "markdown",
      "source": [
        "### Exercises for tuples"
      ],
      "metadata": {
        "id": "iw3yxcl1874U"
      }
    },
    {
      "cell_type": "code",
      "source": [
        "# Print out the first item in the tuple below\n",
        "fruits = (\"apple\", \"banana\", \"cherry\")\n",
        "print(fruits[0])"
      ],
      "metadata": {
        "id": "rFR76Vru8_lR",
        "colab": {
          "base_uri": "https://localhost:8080/"
        },
        "outputId": "7b2ae64b-914b-4058-99c4-c0ff233d3c5e"
      },
      "execution_count": null,
      "outputs": [
        {
          "output_type": "stream",
          "name": "stdout",
          "text": [
            "apple\n"
          ]
        }
      ]
    },
    {
      "cell_type": "markdown",
      "source": [
        "### Exercises for dictionaries"
      ],
      "metadata": {
        "id": "-DKG_wPq9NT9"
      }
    },
    {
      "cell_type": "code",
      "source": [
        "# Use the get method to print the value of the \"model\" key of the car dictionary\n",
        "car =\t{\n",
        "  \"brand\": \"Ford\",\n",
        "  \"model\": \"Mustang\",\n",
        "  \"year\": 1964\n",
        "}\n",
        "print(car.get(\"model\"))"
      ],
      "metadata": {
        "id": "9AXUx46X9Pf2",
        "colab": {
          "base_uri": "https://localhost:8080/"
        },
        "outputId": "054e20c7-1b6e-4234-a45d-72d42c7dfb7c"
      },
      "execution_count": null,
      "outputs": [
        {
          "output_type": "stream",
          "name": "stdout",
          "text": [
            "Mustang\n"
          ]
        }
      ]
    },
    {
      "cell_type": "markdown",
      "metadata": {
        "id": "yr7ENmxHzBc3"
      },
      "source": [
        "## **4.1 While loops**\n",
        "- A structure that allows us to execute a block of code multiple times until a condition is false\n",
        "- Combines elements of if (conditions) and for (looping)\n",
        "\n",
        "The structure of a while loop looks like:\n",
        "\n",
        "```\n",
        "while [insert your condition]:\n",
        "  [insert your indented code to be executed inside the while loop]\n",
        "[Unindented code will not be executed]\n",
        "```\n",
        "\n"
      ]
    },
    {
      "cell_type": "code",
      "source": [
        "# Declaring a while loop\n",
        "\n",
        "i = 1\n",
        "while i <= 5: # as long as i is less than or equal to 5 we will execute the code block again\n",
        "  print(i)\n",
        "  i = i + 1 # Or i += 1\n",
        "\n",
        "# Notice that only the code inside (indented after the colon) of the while loop is executed\n",
        "print(\"Hello!\")"
      ],
      "metadata": {
        "id": "ZyUKAnwTN_2_"
      },
      "execution_count": null,
      "outputs": []
    },
    {
      "cell_type": "markdown",
      "source": [
        "### Break\n",
        "- It ends a loop and takes us out of it\n",
        "- Works for any loop (for, while...)"
      ],
      "metadata": {
        "id": "2fFEPezLr2HP"
      }
    },
    {
      "cell_type": "code",
      "source": [
        "i = 1\n",
        "while i <= 5: \n",
        "  print(i)\n",
        "  if i == 3:\n",
        "    break\n",
        "  i += 1\n",
        "\n",
        "print(\"This is the last value of i: \" + str(i))"
      ],
      "metadata": {
        "id": "Fkye8O2zt7Ea"
      },
      "execution_count": null,
      "outputs": []
    },
    {
      "cell_type": "markdown",
      "source": [
        "## **4.2 Functions**\n",
        "- Functions are a collection of code that performs a task\n",
        "- When we want to do that task we \"call\" that function\n",
        "- Allows us to:\n",
        "  - Organize our code better\n",
        "  - Break it down into little chunks\n",
        "\n",
        "The structure of a function with no arguments looks like:\n",
        "\n",
        "*Without arguments*\n",
        "\n",
        "```\n",
        "def [name of your function]():\n",
        "  [Indented code to be executed in the function]\n",
        "```"
      ],
      "metadata": {
        "id": "-Uw3rFNTTIdR"
      }
    },
    {
      "cell_type": "code",
      "source": [
        "# Let's make a function to say hello\n",
        "\n",
        "# After using def we give the function name, type open and close parentheses, and a colon.\n",
        "def hi_function():\n",
        "  print(\"Hello!\") # Needs to be indented to be inside the function\n",
        "  print(\"Hola!\") # Can have as many lines as we want inside the function\n",
        "  print(\"Bonjour!\")\n",
        "\n",
        "# We can call a function by writing it's name and parentheses\n",
        "hi_function()\n",
        "hi_function()"
      ],
      "metadata": {
        "id": "l0fN6IAwTjIU"
      },
      "execution_count": null,
      "outputs": []
    },
    {
      "cell_type": "code",
      "source": [
        "# Look at the following sequence of code.\n",
        "def hi_function():\n",
        "  print(\"Hello!\") # 3 Execute the code in the function and exit back\n",
        "\n",
        "print(\"Before function\") # 1 print this string\n",
        "hi_function() # 2 Go into the function\n",
        "print(\"After function\") # 4 print this string\n"
      ],
      "metadata": {
        "id": "kOqgh1CfVOeM"
      },
      "execution_count": null,
      "outputs": []
    },
    {
      "cell_type": "markdown",
      "source": [
        "### Functions with arguments\n",
        "- We can give functions parameters (information) for them to use\n",
        "- We add that information inside the parentheses\n",
        "- We give parameters names\n",
        "\n",
        "The structure of a function with arguments looks like:\n",
        "\n",
        "*With arguments*\n",
        "\n",
        "```\n",
        "def [name of your function]([optional argument 1],[optional argument 2],[etc.]):\n",
        "  [Indented code to be executed in the function]\n",
        "```\n",
        "\n"
      ],
      "metadata": {
        "id": "87kGpC-bWIRy"
      }
    },
    {
      "cell_type": "code",
      "source": [
        "# Let's make a function that can say hello to someone\n",
        "\n",
        "# We do the same as before but add an argument and give it a name\n",
        "def hello_names(name):\n",
        "  print(\"Hello \" + name + \"!\") \n",
        "\n",
        "# Note that the name argument is only available inside the function! We can't use it outside\n",
        "# print(name) # This won't work\n",
        "\n",
        "# Let's try it\n",
        "hello_names(\"Raul\")\n",
        "  "
      ],
      "metadata": {
        "id": "w8xEnQOsWevY"
      },
      "execution_count": null,
      "outputs": []
    },
    {
      "cell_type": "code",
      "source": [
        "# Let's add more arguments\n",
        "def order_food(food, quantity):\n",
        "  print(\"You ordered \" + str(quantity) + \" \" + food)\n",
        "\n",
        "# The arguments can be of different types\n",
        "order_food(\"pizzas\", 4)\n",
        "order_food(\"pastas\", 10)"
      ],
      "metadata": {
        "id": "b2FLPaCLjfRK"
      },
      "execution_count": null,
      "outputs": []
    },
    {
      "cell_type": "markdown",
      "source": [
        "### Return statement\n",
        "- Lets a function give us information (returns us something)\n",
        "  - Examples:\n",
        "    - Function that adds two numbers, returns us the result of the addition\n",
        "    - Function that checks my password, returns True if it is my password, False if not\n",
        "\n",
        "Structure of a function (no arguments in this example, but you can have arguments) with a return statement:\n",
        "\n",
        "\n",
        "```\n",
        "def [name of function]():\n",
        "  [code of the function]\n",
        "  return [information we want to return]\n",
        "```\n",
        "\n"
      ],
      "metadata": {
        "id": "K7PnLnuKkJAx"
      }
    },
    {
      "cell_type": "code",
      "source": [
        "# Let's make a function that converts celsius to fahrenheit\n",
        "def temp_converter(celsius):\n",
        "  fahrenheit = (celsius * 1.8) + 32\n",
        "\n",
        "print(temp_converter(10)) \n",
        "\n",
        "# This doesn't really do anything since we are not returning the conversion"
      ],
      "metadata": {
        "id": "8Yq65cu9lhWl",
        "colab": {
          "base_uri": "https://localhost:8080/"
        },
        "outputId": "9ac12102-1122-408c-e013-08ee23b1c3d2"
      },
      "execution_count": null,
      "outputs": [
        {
          "output_type": "stream",
          "name": "stdout",
          "text": [
            "None\n"
          ]
        }
      ]
    },
    {
      "cell_type": "code",
      "source": [
        "def temp_converter(celsius):\n",
        "  fahrenheit = (celsius * 1.8) + 32\n",
        "  return fahrenheit\n",
        "\n",
        "# Now we can see the value\n",
        "result = temp_converter(10)\n",
        "print(result) \n",
        "\n",
        "# Note: Within the function we can't put code after the return statement"
      ],
      "metadata": {
        "id": "mU2F_5RYm9Ew",
        "colab": {
          "base_uri": "https://localhost:8080/"
        },
        "outputId": "f2c4d60e-51d5-41af-d787-74b9f965ec16"
      },
      "execution_count": null,
      "outputs": [
        {
          "output_type": "stream",
          "name": "stdout",
          "text": [
            "50.0\n"
          ]
        }
      ]
    },
    {
      "cell_type": "code",
      "source": [
        "def temp_converter(celsius):\n",
        "  fahrenheit = (celsius * 1.8) + 32\n",
        "  return fahrenheit\n",
        "\n",
        "\n",
        "# We can store the result in variables!\n",
        "monday_temp = temp_converter(35)\n",
        "tuesday_temp = temp_converter(25)\n",
        "\n",
        "print(\"Monday will be \" + str(monday_temp) + \" degrees fahrenheit\")\n",
        "print(\"Tuesday will be \" + str(tuesday_temp) + \" degrees fahrenheit\")\n"
      ],
      "metadata": {
        "id": "A-NkVGUonM2q"
      },
      "execution_count": null,
      "outputs": []
    },
    {
      "cell_type": "markdown",
      "metadata": {
        "id": "dHaT9XLODw-7"
      },
      "source": [
        "## Exercise together\n",
        "- Let's create a number guessing game. \n",
        "\n",
        "1. We will think of a secret number\n",
        "2. The player gives us a guess number\n",
        "3. We tell them if that number is correct or not and if his number was too small or too big\n",
        "\n",
        "** We will make all of this in the box below part 3"
      ]
    },
    {
      "cell_type": "markdown",
      "source": [
        "### Part 1: Setting up the secret number and user input\n",
        "1. Create an integer variable named *secret* and store your secret number there\n",
        "2. Create a variable named *guess* and assign zero to it\n",
        "4. Get a number from the user and store it in the *guess* variable \n",
        "5. Use an if statement to see if the guess is equal to the secret number and if it is, print \"correct\", if not, print \"incorrect\".\n"
      ],
      "metadata": {
        "id": "90u0WTdW5Qy5"
      }
    },
    {
      "cell_type": "markdown",
      "source": [
        "### Part 2: Adding a while loop\n",
        "1. Create a boolean named *playing* before getting input from the user and set it to True\n",
        "2. Create a while loop whose conditional is the correct variable\n",
        "3. Put your input function (where you assigned the guess) and the if statement inside the while loop\n",
        "4. Make it so that we leave the loop once we guess the correct answer\n"
      ],
      "metadata": {
        "id": "iBSgEnh0kRNy"
      }
    },
    {
      "cell_type": "markdown",
      "source": [
        "### Part 3: Giving hints to the user and making it simpler!\n",
        "1. Create a function (can name it hint) at the top of the code block that:\n",
        "  - Takes two arguments, called: *answer* and *number*\n",
        "  - Make is so that:\n",
        "    - If *number* is less than *answer* it prints \"too small\" and returns True\n",
        "    - If *number* is greater than *answer* it prints \"too big\" and returns True\n",
        "    - If *number* is the same as *answer* it prints \"Correct!\" and returns False\n",
        "2. Delete your if statements from inside the while loop and set *playing* to the function (remember to pass in the arguments)"
      ],
      "metadata": {
        "id": "lXRQh5Txn83N"
      }
    },
    {
      "cell_type": "code",
      "source": [
        "def hint(answer,number):\n",
        "  # answer = secret\n",
        "  # guess = number\n",
        "  if number < answer:\n",
        "    print(\"too small\")\n",
        "    return True\n",
        "  elif number > answer:\n",
        "    print(\"too big\")\n",
        "    return True\n",
        "  else:\n",
        "    print(\"Correct\")\n",
        "    return False\n",
        "\n",
        "# Write your code down here! \n",
        "secret = 7\n",
        "guess = 0\n",
        "playing = True\n",
        "\n",
        "while playing:\n",
        "  guess = int(input(\"Enter your guess: \"))\n",
        "  playing = hint(secret, guess)\n"
      ],
      "metadata": {
        "id": "9tnTHwmlvIdY",
        "colab": {
          "base_uri": "https://localhost:8080/"
        },
        "outputId": "89163fa4-9dc2-4dda-9868-361dd966545b"
      },
      "execution_count": null,
      "outputs": [
        {
          "output_type": "stream",
          "name": "stdout",
          "text": [
            "Enter your guess: 5\n",
            "too small\n",
            "Enter your guess: 10\n",
            "too big\n",
            "Enter your guess: 7\n",
            "Correct\n"
          ]
        }
      ]
    },
    {
      "cell_type": "markdown",
      "source": [
        "## Other exercises!\n",
        "- Feel free to contact me anytime if you have questions!"
      ],
      "metadata": {
        "id": "3i_lg_947Qbv"
      }
    },
    {
      "cell_type": "markdown",
      "source": [
        "### Exercise 1\n",
        "Make a while loop and increase i by 1 until it is equal to 10"
      ],
      "metadata": {
        "id": "_t1Uykpyrecy"
      }
    },
    {
      "cell_type": "code",
      "source": [
        "i = 1\n",
        "# Write your code here"
      ],
      "metadata": {
        "id": "6TQaKJMnrLQA"
      },
      "execution_count": null,
      "outputs": []
    },
    {
      "cell_type": "markdown",
      "source": [
        "### Exercise 2\n",
        "Using the same while loop as in exercise 1, *break* out of the loop when i is 8"
      ],
      "metadata": {
        "id": "k_HLWB6FuUSp"
      }
    },
    {
      "cell_type": "code",
      "source": [
        "# Write your code here"
      ],
      "metadata": {
        "id": "r8rmDrlHuTzP"
      },
      "execution_count": null,
      "outputs": []
    },
    {
      "cell_type": "markdown",
      "source": [
        "### Exercise 3\n",
        "Create a function named *my_function* that prints out \"Hello!\" and call it"
      ],
      "metadata": {
        "id": "-uV4c2pzrpBH"
      }
    },
    {
      "cell_type": "code",
      "source": [
        "# Write your code here"
      ],
      "metadata": {
        "id": "J6wO-G_9u55s"
      },
      "execution_count": null,
      "outputs": []
    },
    {
      "cell_type": "markdown",
      "source": [
        "### Exercise 4\n",
        "Create a function named double_func that takes a number as an argument, multiplies it by 2, and returns it"
      ],
      "metadata": {
        "id": "oBeyHIlhu47a"
      }
    },
    {
      "cell_type": "code",
      "source": [
        "# Write your code here"
      ],
      "metadata": {
        "id": "GlDXzInnvS6r"
      },
      "execution_count": null,
      "outputs": []
    }
  ],
  "metadata": {
    "colab": {
      "collapsed_sections": [
        "rR5aTaICTFMC",
        "5sqt16-w1LUm"
      ],
      "name": "Lesson4.ipynb",
      "provenance": [],
      "authorship_tag": "ABX9TyMskevcVNaV/LHrwtsSwTWw",
      "include_colab_link": true
    },
    "kernelspec": {
      "display_name": "Python 3",
      "name": "python3"
    },
    "language_info": {
      "name": "python"
    }
  },
  "nbformat": 4,
  "nbformat_minor": 0
}