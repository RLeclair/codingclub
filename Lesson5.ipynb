{
  "cells": [
    {
      "cell_type": "markdown",
      "metadata": {
        "id": "view-in-github",
        "colab_type": "text"
      },
      "source": [
        "<a href=\"https://colab.research.google.com/github/RLeclair/codingclub/blob/master/Lesson5.ipynb\" target=\"_parent\"><img src=\"https://colab.research.google.com/assets/colab-badge.svg\" alt=\"Open In Colab\"/></a>"
      ]
    },
    {
      "cell_type": "markdown",
      "metadata": {
        "id": "QLTMS3MCQNnc"
      },
      "source": [
        "#**Lesson 5: Review and Questions**\n",
        "\n",
        "### In lesson 5 we'll do some exercises from Lesson 1 to Lesson 4\n",
        "- I have included hints for some of them\n",
        "  - Example hint for printing a function: `print(<What you want to print>)` \n",
        "  - Replace the text within the <> and the <> with the prompt inside\n",
        "\n",
        "\n"
      ]
    },
    {
      "cell_type": "markdown",
      "source": [
        "## Lesson 1\n",
        "- Hello world\n",
        "- Variables\n",
        "- Working with strings"
      ],
      "metadata": {
        "id": "8FLrVfSJszTp"
      }
    },
    {
      "cell_type": "code",
      "source": [
        "# Exercise 1.1: Use the print function to print \"Hello world\"\n",
        "print(\"Hello world\")"
      ],
      "metadata": {
        "id": "TYDHCUumsy6C",
        "colab": {
          "base_uri": "https://localhost:8080/"
        },
        "outputId": "1315046e-2763-4881-ef65-abcd3fa29665"
      },
      "execution_count": null,
      "outputs": [
        {
          "output_type": "stream",
          "name": "stdout",
          "text": [
            "Hello world\n"
          ]
        }
      ]
    },
    {
      "cell_type": "code",
      "source": [
        "# Exercise 1.2: Fill in the variables below:\n",
        "\n",
        "# Fill with a string\n",
        "string_variable = \"Hello world\"\n",
        "\n",
        "# Fill with an integer\n",
        "int_variable = 2\n",
        "\n",
        "# Fill with a decimal\n",
        "dec_variable = 2.45\n",
        "\n",
        "# Fill with a boolean (True or False)\n",
        "bool_variable = False"
      ],
      "metadata": {
        "id": "35YEvi_dufBG"
      },
      "execution_count": null,
      "outputs": []
    },
    {
      "cell_type": "code",
      "source": [
        "# Exercise 1.3: Create a variable, store something in it, and print it\n",
        "my_variable = \"Hello\"\n",
        "print(my_variable)"
      ],
      "metadata": {
        "id": "nX8bFrEQuSuN",
        "colab": {
          "base_uri": "https://localhost:8080/"
        },
        "outputId": "e4674aa4-7d69-468f-ec46-cd6bcd78d698"
      },
      "execution_count": null,
      "outputs": [
        {
          "output_type": "stream",
          "name": "stdout",
          "text": [
            "Hello\n"
          ]
        }
      ]
    },
    {
      "cell_type": "code",
      "source": [
        "# Exercise 1.4: Join the two strings below and print them\n",
        "\n",
        "string_one = \"Hello \"\n",
        "string_two = \"world!\"\n",
        "\n",
        "string_three = string_one + string_two\n",
        "print(string_three)"
      ],
      "metadata": {
        "id": "V_ZhFETsuqDI",
        "colab": {
          "base_uri": "https://localhost:8080/"
        },
        "outputId": "f006364c-d140-4b22-8658-0c8797808d0a"
      },
      "execution_count": null,
      "outputs": [
        {
          "output_type": "stream",
          "name": "stdout",
          "text": [
            "Hello world!\n"
          ]
        }
      ]
    },
    {
      "cell_type": "code",
      "source": [
        "# Exercise 1.5: Use the lower() string function to make the string below into lowercase and print it\n",
        "\n",
        "my_string = \"PYTHON\"\n",
        "print(my_string.lower())"
      ],
      "metadata": {
        "colab": {
          "base_uri": "https://localhost:8080/"
        },
        "id": "EgiPhY6svRVt",
        "outputId": "d371cd83-f687-4baa-a7c1-0cda6bd95e6c"
      },
      "execution_count": null,
      "outputs": [
        {
          "output_type": "stream",
          "name": "stdout",
          "text": [
            "python\n"
          ]
        }
      ]
    },
    {
      "cell_type": "code",
      "source": [
        "# Exercise 1.6: Use the replace() function to replace apple with orange and print it\n",
        "\n",
        "# Hint: <variable name>.replace(<what you want to replace>, <what you replace it with>)\n",
        "\n",
        "my_fruit = \"I have an apple\"\n",
        "\n",
        "print(my_fruit.replace(\"apple\", \"orange\"))"
      ],
      "metadata": {
        "colab": {
          "base_uri": "https://localhost:8080/"
        },
        "id": "DsokR7Koviuf",
        "outputId": "ecad9008-1db4-4c00-90d0-fe0ed3d71025"
      },
      "execution_count": null,
      "outputs": [
        {
          "output_type": "stream",
          "name": "stdout",
          "text": [
            "I have an orange\n"
          ]
        }
      ]
    },
    {
      "cell_type": "code",
      "source": [
        "# Exercise 1.7: Get the length of the string below using the len() function and print the result\n",
        "# Hint: len(<variable name>)\n",
        "\n",
        "my_lenstring = \"13 characters\"\n",
        "print(len(my_lenstring))"
      ],
      "metadata": {
        "colab": {
          "base_uri": "https://localhost:8080/"
        },
        "id": "EhfPKne8wVKa",
        "outputId": "d54b8f88-fd7b-41f0-f69d-725dee3adf3d"
      },
      "execution_count": null,
      "outputs": [
        {
          "output_type": "stream",
          "name": "stdout",
          "text": [
            "13\n"
          ]
        }
      ]
    },
    {
      "cell_type": "code",
      "source": [
        "# Exercise 1.8: Index into the letter p of the variable below and print the result\n",
        "# Hint: Use square brackets after the variable name and give the index, remember that we start counting from zero\n",
        "\n",
        "my_word = \"carpet\"\n",
        "print(my_word[3])"
      ],
      "metadata": {
        "id": "Cj6KGZBBxGPw",
        "colab": {
          "base_uri": "https://localhost:8080/"
        },
        "outputId": "2408c755-0ad1-4a3e-9488-9769486e896f"
      },
      "execution_count": null,
      "outputs": [
        {
          "output_type": "stream",
          "name": "stdout",
          "text": [
            "p\n"
          ]
        }
      ]
    },
    {
      "cell_type": "markdown",
      "source": [
        "## Lesson 2\n",
        "- Working with numbers\n",
        "- If statements\n",
        "- Comparisons\n",
        "- For loops "
      ],
      "metadata": {
        "id": "aaQZZzZqxiHU"
      }
    },
    {
      "cell_type": "code",
      "source": [
        "# Exercise 2.1: Add two numbers and print the result\n",
        "print(5+2)"
      ],
      "metadata": {
        "colab": {
          "base_uri": "https://localhost:8080/"
        },
        "id": "kkv_Sugsxq2p",
        "outputId": "ba2e38d2-60d9-4148-c085-6f5c3e31a4ad"
      },
      "execution_count": null,
      "outputs": [
        {
          "output_type": "stream",
          "name": "stdout",
          "text": [
            "7\n"
          ]
        }
      ]
    },
    {
      "cell_type": "code",
      "source": [
        "# Exercise 2.2: Get the absolute value of the number below and print it\n",
        "# Hint: Use the abs(<Insert number>) function\n",
        "my_negnum = -100\n",
        "\n",
        "print(abs(my_negnum))"
      ],
      "metadata": {
        "colab": {
          "base_uri": "https://localhost:8080/"
        },
        "id": "AZIp88io3eZ1",
        "outputId": "8a399c5f-860e-48eb-fbd5-635de12fdaad"
      },
      "execution_count": null,
      "outputs": [
        {
          "output_type": "stream",
          "name": "stdout",
          "text": [
            "100\n"
          ]
        }
      ]
    },
    {
      "cell_type": "code",
      "source": [
        "# Exercise 2.3: Use the max function to find the max between 10 and 15 and print it\n",
        "# Hint: Use max(<number 1>, <number 2>)\n",
        "print(max(10,-15))"
      ],
      "metadata": {
        "colab": {
          "base_uri": "https://localhost:8080/"
        },
        "id": "2Ast0P_64G3D",
        "outputId": "fc6d59f7-740d-4b67-f2e7-fd4d23b383a5"
      },
      "execution_count": null,
      "outputs": [
        {
          "output_type": "stream",
          "name": "stdout",
          "text": [
            "10\n"
          ]
        }
      ]
    },
    {
      "cell_type": "code",
      "source": [
        "# Exercise 2.4: Cast the following integer into a string using str() and print it\n",
        "my_strint = 3\n",
        "print(str(my_strint))"
      ],
      "metadata": {
        "id": "guUGQWHX4rJw",
        "colab": {
          "base_uri": "https://localhost:8080/"
        },
        "outputId": "f00bc9f4-34e6-4db5-90ba-57755cc3f889"
      },
      "execution_count": null,
      "outputs": [
        {
          "output_type": "stream",
          "name": "stdout",
          "text": [
            "3\n"
          ]
        }
      ]
    },
    {
      "cell_type": "code",
      "source": [
        "# Exercise 2.5: Cast the following decimal into a string and print it\n",
        "my_decimal = 3.14\n",
        "\n",
        "print(str(my_decimal) + \" is pi\")"
      ],
      "metadata": {
        "colab": {
          "base_uri": "https://localhost:8080/"
        },
        "id": "Tqs303f342Ns",
        "outputId": "df2e30a5-1d47-4513-f0d3-acfc8531b96f"
      },
      "execution_count": null,
      "outputs": [
        {
          "output_type": "stream",
          "name": "stdout",
          "text": [
            "3.14 is pi\n"
          ]
        }
      ]
    },
    {
      "cell_type": "code",
      "source": [
        "# Exercise 2.6: Use the input() function to ask the user for their favorite food and print it\n",
        "# Hint: input(<Prompt goes here>)\n",
        "\n",
        "favorite_food = input(\"What is your favorite food?\")\n",
        "\n",
        "print(favorite_food)"
      ],
      "metadata": {
        "colab": {
          "base_uri": "https://localhost:8080/"
        },
        "id": "qykS2Lqe4-6Z",
        "outputId": "7aadec38-8348-4137-c1d2-d134de2db5a9"
      },
      "execution_count": null,
      "outputs": [
        {
          "output_type": "stream",
          "name": "stdout",
          "text": [
            "What is your favorite food?crepes\n",
            "crepes\n"
          ]
        }
      ]
    },
    {
      "cell_type": "code",
      "source": [
        "# Exercise 2.7: Create an if statement that prints \"It's true\" if the variable below is True\n",
        "# Hint: if <condition or variable name>: \n",
        "# Remember that we should do indentation after every colon as that's what would be \"inside\"\n",
        "\n",
        "my_boolean = False\n",
        "if my_boolean:\n",
        "  print(\"It's true\")\n",
        "print(\"This is outside\")"
      ],
      "metadata": {
        "colab": {
          "base_uri": "https://localhost:8080/"
        },
        "id": "wB76ELAw5Ok9",
        "outputId": "cb8e9bb0-ef13-4eea-9d8f-5177c643e0f6"
      },
      "execution_count": null,
      "outputs": [
        {
          "output_type": "stream",
          "name": "stdout",
          "text": [
            "This is outside\n"
          ]
        }
      ]
    },
    {
      "cell_type": "code",
      "source": [
        "# Exercise 2.8: Add an else statement to the if statement from 2.7 that prints \"It's false\" if the variable below is False\n",
        "# Hint: else:\n",
        "\n",
        "my_boolean = False\n",
        "if my_boolean:\n",
        "  print(\"It's true\")\n",
        "else:\n",
        "  print(\"It's false\")"
      ],
      "metadata": {
        "colab": {
          "base_uri": "https://localhost:8080/"
        },
        "id": "eq0qcq1F51kA",
        "outputId": "a854a742-2c50-4b94-eb42-e4642592e40b"
      },
      "execution_count": null,
      "outputs": [
        {
          "output_type": "stream",
          "name": "stdout",
          "text": [
            "It's false\n"
          ]
        }
      ]
    },
    {
      "cell_type": "code",
      "source": [
        "# Exercise 2.9: Create an if statement that prints both are true if the two variables below are true\n",
        "# Hint: use the and operator\n",
        "\n",
        "boolean_1 = True\n",
        "boolean_2 = True\n",
        "\n",
        "if boolean_1 and boolean_2:\n",
        "  print(\"Both are true\")"
      ],
      "metadata": {
        "id": "Cv1iY70L6Z3I"
      },
      "execution_count": null,
      "outputs": []
    },
    {
      "cell_type": "code",
      "source": [
        "# Exercise 2.10: Create an if statement that prints \"greater than\" if the variable below is greater than 10\n",
        "# Hint: Remember comparators: <, >, <=, >=, ==\n",
        "\n",
        "number_1 = 9\n",
        "if number_1 > 10:\n",
        "  print(\"Greater than\")\n",
        "else:\n",
        "  print(\"It is equal to or less than\")"
      ],
      "metadata": {
        "id": "ZfZEHzBV6_iG"
      },
      "execution_count": null,
      "outputs": []
    },
    {
      "cell_type": "code",
      "source": [
        "# Exercise 2.11: Ask the user a trivia question and check with an if statement if they got the answer right, print if so\n",
        "# You can do, what is the capital of Nicaragua?\n",
        "# Hint: Use input() and then check the result in an if statement \n",
        "\n",
        "answer = input(\"What is the capital of Nicaragua?\")\n",
        "\n",
        "if answer == \"Managua\":\n",
        "  print(\"Correct!\")"
      ],
      "metadata": {
        "colab": {
          "base_uri": "https://localhost:8080/"
        },
        "id": "qYR72jCB7Oll",
        "outputId": "4e374cea-000c-4e07-88ea-27b3ccabef48"
      },
      "execution_count": null,
      "outputs": [
        {
          "output_type": "stream",
          "name": "stdout",
          "text": [
            "What is the capital of Nicaragua?Managua\n",
            "Correct!\n"
          ]
        }
      ]
    },
    {
      "cell_type": "code",
      "source": [
        "# Exercise 2.12: Loop through the below string and print each letter individually\n",
        "# Hint: for <choose a variable name> in <the string>:\n",
        "# Remember indentation\n",
        "\n",
        "var_loop = \"Looping\"\n",
        "for letter in var_loop:\n",
        "  print(letter)"
      ],
      "metadata": {
        "id": "Iv_1M6YF7hQY",
        "colab": {
          "base_uri": "https://localhost:8080/"
        },
        "outputId": "cb33af7f-ee03-4345-cb36-3e4125c303d3"
      },
      "execution_count": null,
      "outputs": [
        {
          "output_type": "stream",
          "name": "stdout",
          "text": [
            "L\n",
            "o\n",
            "o\n",
            "p\n",
            "i\n",
            "n\n",
            "g\n"
          ]
        }
      ]
    },
    {
      "cell_type": "code",
      "source": [
        "# Exercise 2.13: Use the range function to loop through numbers 1-10\n",
        "# Hint: for <choose a variable name> in range(<Last number, excluded>):\n",
        "\n",
        "for number in range(1,11):\n",
        "  print(number)"
      ],
      "metadata": {
        "id": "mdBjtfUq76h7",
        "colab": {
          "base_uri": "https://localhost:8080/"
        },
        "outputId": "6c48e87c-bd29-46ee-a7d4-a1999dced047"
      },
      "execution_count": null,
      "outputs": [
        {
          "output_type": "stream",
          "name": "stdout",
          "text": [
            "1\n",
            "2\n",
            "3\n",
            "4\n",
            "5\n",
            "6\n",
            "7\n",
            "8\n",
            "9\n",
            "10\n"
          ]
        }
      ]
    },
    {
      "cell_type": "markdown",
      "source": [
        "## Lesson 3\n",
        "- Lists\n",
        "- Tuples\n",
        "- Dictionaries"
      ],
      "metadata": {
        "id": "AP41jjk38cvC"
      }
    },
    {
      "cell_type": "code",
      "source": [
        "# Exercise 3.1: Create a list of five names and print it\n",
        "# Hint: <list name> = [<Name 1>, <Name 2>, <Name 3>, <Name 4>, <Name 5>]\n",
        "names = [\"Leah\", \"Eric\", \"Raul\", \"Bryce\", \"Thomas\"]"
      ],
      "metadata": {
        "id": "663iR-KI8cV4"
      },
      "execution_count": null,
      "outputs": []
    },
    {
      "cell_type": "code",
      "source": [
        "# Exercise 3.2: Using the list you made above index into the second name and print it\n",
        "# Hint: <list name>[<index of the second name>]\n",
        "names = [\"Leah\", \"Eric\", \"Raul\", \"Bryce\", \"Thomas\"]\n",
        "print(names[1])"
      ],
      "metadata": {
        "id": "A6dU8w499YBb",
        "colab": {
          "base_uri": "https://localhost:8080/"
        },
        "outputId": "56ac4055-3242-45c7-e13a-1b3e50d5c8d7"
      },
      "execution_count": null,
      "outputs": [
        {
          "output_type": "stream",
          "name": "stdout",
          "text": [
            "Eric\n"
          ]
        }
      ]
    },
    {
      "cell_type": "code",
      "source": [
        "# Exercise 3.3: Get the second, third, and fourth names and print them\n",
        "# Hint: <list name>[<index of the second>, <index of the element after the fourth>]\n",
        "names = [\"Leah\", \"Eric\", \"Raul\", \"Bryce\", \"Thomas\"]\n",
        "print(names[1:4])"
      ],
      "metadata": {
        "id": "ycLsQRrL9m5J",
        "colab": {
          "base_uri": "https://localhost:8080/"
        },
        "outputId": "4c805024-834a-4788-b7b1-4a92877091e0"
      },
      "execution_count": null,
      "outputs": [
        {
          "output_type": "stream",
          "name": "stdout",
          "text": [
            "['Eric', 'Raul', 'Bryce']\n"
          ]
        }
      ]
    },
    {
      "cell_type": "code",
      "source": [
        "# Exercise 3.4: Change the second name to some other name and print the list\n",
        "# Hint: <list name>[<index of the second name>] = <Some other name>\n",
        "names = [\"Leah\", \"Eric\", \"Raul\", \"Bryce\", \"Thomas\"]\n",
        "names[1] = \"Alex\"\n",
        "print(names)"
      ],
      "metadata": {
        "id": "vFAvPRzu-AIJ",
        "colab": {
          "base_uri": "https://localhost:8080/"
        },
        "outputId": "052c0597-1245-4361-dddc-6e70502b672b"
      },
      "execution_count": null,
      "outputs": [
        {
          "output_type": "stream",
          "name": "stdout",
          "text": [
            "['Leah', 'Alex', 'Raul', 'Bryce', 'Thomas']\n"
          ]
        }
      ]
    },
    {
      "cell_type": "code",
      "source": [
        "# Exercise 3.5: Insert a new name right before the last name and print the list\n",
        "# Hint: <list name>.insert(<index of the last name>, <New name>)\n",
        "names = [\"Leah\", \"Eric\", \"Raul\", \"Bryce\", \"Thomas\"]\n",
        "names.insert(4, \"New Name\")\n",
        "print(names)"
      ],
      "metadata": {
        "id": "k8o2jYOK-KeR",
        "colab": {
          "base_uri": "https://localhost:8080/"
        },
        "outputId": "772b733b-2898-46b3-ee14-d147163e59d3"
      },
      "execution_count": null,
      "outputs": [
        {
          "output_type": "stream",
          "name": "stdout",
          "text": [
            "['Leah', 'Eric', 'Raul', 'Bryce', 'New Name', 'Thomas']\n"
          ]
        }
      ]
    },
    {
      "cell_type": "code",
      "source": [
        "# Exercise 3.6: Create a tuple and print it!\n",
        "# Hint: Tuples are similar to lists but instead of square brackets we use parentheses for creation\n",
        "my_tuple = (30, 4)\n",
        "print(my_tuple)"
      ],
      "metadata": {
        "id": "4meSqOMv-1Ed",
        "colab": {
          "base_uri": "https://localhost:8080/"
        },
        "outputId": "e12d398e-c0e6-4889-b112-3155314613dc"
      },
      "execution_count": null,
      "outputs": [
        {
          "output_type": "stream",
          "name": "stdout",
          "text": [
            "(30, 4)\n"
          ]
        }
      ]
    },
    {
      "cell_type": "code",
      "source": [
        "# Exercise 3.7: Create a dictionary of fruits, with keys being the name of the fruit, and values being their definitions, give three fruits\n",
        "# Ex: apple: a red fruit, orange: an orange fruit, pear: a green fruit\n",
        "# Feel free to use the example\n",
        "# Hint: <dictionary name> = {\n",
        "#   <key 1> : <insert value>,\n",
        "#   <key 2> : <insert value>   \n",
        "# }\n",
        "fruits = {\n",
        "    \"apple\" : \"A red fruit\",\n",
        "    \"orange\" : \"An orange fruit\",\n",
        "    \"pear\" : \"A green fruit\"\n",
        "}"
      ],
      "metadata": {
        "id": "OGlotfVp-7zj"
      },
      "execution_count": null,
      "outputs": []
    },
    {
      "cell_type": "code",
      "source": [
        "# Exercise 3.8: Print the definition for one of your fruits\n",
        "# Hint: <dictionary name>[<key>]\n",
        "fruits = {\n",
        "    \"apple\" : \"A red fruit\",\n",
        "    \"orange\" : \"An orange fruit\",\n",
        "    \"pear\" : \"A green fruit\"\n",
        "}\n",
        "print(fruits[\"pear\"])"
      ],
      "metadata": {
        "id": "zs_mrysv_bTA",
        "colab": {
          "base_uri": "https://localhost:8080/"
        },
        "outputId": "7d574da7-8ade-42c5-90da-87bb7b489e9c"
      },
      "execution_count": null,
      "outputs": [
        {
          "output_type": "stream",
          "name": "stdout",
          "text": [
            "A green fruit\n"
          ]
        }
      ]
    },
    {
      "cell_type": "code",
      "source": [
        "# Exercise 3.9: Do the same thing as in 3.8 but use the .get() function\n",
        "# Hint: <dictionary name>.get(<key>)\n",
        "fruits = {\n",
        "    \"apple\" : \"A red fruit\",\n",
        "    \"orange\" : \"An orange fruit\",\n",
        "    \"pear\" : \"A green fruit\"\n",
        "}\n",
        "print(fruits.get(\"pear\"))"
      ],
      "metadata": {
        "id": "s_jhAfvI_vQg",
        "colab": {
          "base_uri": "https://localhost:8080/"
        },
        "outputId": "bcfa0c01-828b-4e30-e3fe-3c05fe221b8f"
      },
      "execution_count": null,
      "outputs": [
        {
          "output_type": "stream",
          "name": "stdout",
          "text": [
            "A green fruit\n"
          ]
        }
      ]
    },
    {
      "cell_type": "markdown",
      "source": [
        "## Lesson 4:\n",
        "- While loops\n",
        "- Break\n",
        "- Functions"
      ],
      "metadata": {
        "id": "t2nqlklhAS6I"
      }
    },
    {
      "cell_type": "code",
      "source": [
        "# Exercise 4.1: Declare a while loop that stops when the variable below reaches 10, and then prints the variable out\n",
        "# Hint: while <Insert condition here>:\n",
        "# Hint 2: Inside the while loop make sure to increase the variable below by 1 every time\n",
        "\n",
        "my_int = 1 \n",
        "while my_int < 11:\n",
        "  print(my_int)\n",
        "  my_int += 1"
      ],
      "metadata": {
        "id": "Md_25plzAXWK",
        "colab": {
          "base_uri": "https://localhost:8080/"
        },
        "outputId": "376efc37-00e2-451c-c92b-95bb175b3d9e"
      },
      "execution_count": null,
      "outputs": [
        {
          "output_type": "stream",
          "name": "stdout",
          "text": [
            "1\n",
            "2\n",
            "3\n",
            "4\n",
            "5\n",
            "6\n",
            "7\n",
            "8\n",
            "9\n",
            "10\n"
          ]
        }
      ]
    },
    {
      "cell_type": "code",
      "source": [
        "# Exercise 4.2: Create a while loop that takes the user's input every iteration and breaks out when the user inputs \"exit\"\n",
        "# Hint: Use the input function inside a while loop with True as its condition\n",
        "while True:\n",
        "  user_input = input(\"Type exit to exit: \")\n",
        "  if user_input == 'exit':\n",
        "    break"
      ],
      "metadata": {
        "id": "lNpSAkdEAq2Y",
        "colab": {
          "base_uri": "https://localhost:8080/"
        },
        "outputId": "8490cd81-7a18-43cb-c96c-04e64a635e20"
      },
      "execution_count": null,
      "outputs": [
        {
          "name": "stdout",
          "output_type": "stream",
          "text": [
            "Type exit to exit: \n",
            "Type exit to exit: exit\n"
          ]
        }
      ]
    },
    {
      "cell_type": "code",
      "source": [
        "# Exercise 4.3: Declare a function that prints out \"hello!\" and call it\n",
        "# Hint: def <name of the function>():\n",
        "def hi_function():\n",
        "  print(\"Hello!\")\n",
        "\n",
        "hi_function()"
      ],
      "metadata": {
        "id": "mrY4SijcBBRI",
        "colab": {
          "base_uri": "https://localhost:8080/"
        },
        "outputId": "4f951cc9-59f6-4b52-b1be-5267caa6e7fc"
      },
      "execution_count": null,
      "outputs": [
        {
          "output_type": "stream",
          "name": "stdout",
          "text": [
            "Hello!\n"
          ]
        }
      ]
    },
    {
      "cell_type": "code",
      "source": [
        "# Exercise 4.4: Declare a function that takes in a name as an argument and prints the \"Hello <the name>\", call it!\n",
        "# Hint: def <name of the function>(<argument name>):\n",
        "def hi_name_function(name):\n",
        "  print(\"Hello \" + name + \"!\")\n",
        "\n",
        "hi_name_function(\"Alex\")"
      ],
      "metadata": {
        "id": "eXrpYIgKBUnO",
        "colab": {
          "base_uri": "https://localhost:8080/"
        },
        "outputId": "1e776b55-c3a1-4763-9593-00bad27cf375"
      },
      "execution_count": null,
      "outputs": [
        {
          "output_type": "stream",
          "name": "stdout",
          "text": [
            "Hello Alex!\n"
          ]
        }
      ]
    },
    {
      "cell_type": "code",
      "source": [
        "# Exercise 4.5: Declare a function that returns the addition of two numbers and then call it!\n",
        "# Hint: def <name of the function>(<argument 1>, <argument 2>):\n",
        "# Hint 2: return <the value or variable to be returned>\n",
        "def addition(num1, num2):\n",
        "  return num1 + num2\n",
        "\n",
        "print(addition(2,2))"
      ],
      "metadata": {
        "id": "EXoE6tT8BgQ0",
        "colab": {
          "base_uri": "https://localhost:8080/"
        },
        "outputId": "1037124e-e334-402c-fd33-68cb53f19a3d"
      },
      "execution_count": null,
      "outputs": [
        {
          "output_type": "stream",
          "name": "stdout",
          "text": [
            "4\n"
          ]
        }
      ]
    }
  ],
  "metadata": {
    "colab": {
      "collapsed_sections": [],
      "name": "Lesson5.ipynb",
      "provenance": [],
      "authorship_tag": "ABX9TyPtZ2ophP10IXKbSl9reZwj",
      "include_colab_link": true
    },
    "kernelspec": {
      "display_name": "Python 3",
      "name": "python3"
    },
    "language_info": {
      "name": "python"
    }
  },
  "nbformat": 4,
  "nbformat_minor": 0
}