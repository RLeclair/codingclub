{
 "cells": [
  {
   "cell_type": "markdown",
   "metadata": {},
   "source": [
    "# **Lesson 6: Object Oriented Programming**\n",
    "\n",
    "### In lesson 6 we will go over\n",
    "- 6.1 Classes\n",
    "- 6.2 Class Functions"
   ]
  },
  {
   "cell_type": "markdown",
   "metadata": {},
   "source": [
    "## **6.1 Classes**\n",
    "- Why would we need them? \n",
    "- How to create one\n",
    "- Using a class"
   ]
  },
  {
   "cell_type": "markdown",
   "metadata": {},
   "source": [
    "### Why do we need classes?\n",
    "- Think about what the data types we've learn about so far:\n",
    "    - Integers\n",
    "    - Strings\n",
    "    - Floats\n",
    "    - Booleans\n",
    "    - Lists\n",
    "    - Tuples\n",
    "    - Dictionaries\n",
    "- What kind of data can we represent with these? "
   ]
  },
  {
   "cell_type": "markdown",
   "metadata": {},
   "source": [
    "### What if we wanted to represent a phone? \n",
    "- What are some things that \"make\" a phone? \n",
    "- Note that many of these individual things can be represented with what we've learnt already but not all of them together."
   ]
  },
  {
   "cell_type": "markdown",
   "metadata": {},
   "source": [
    "## Classes allow us to create our own data type!\n",
    "- Let's create a phone\n",
    "- We can create a class by doing:\n",
    "    - `class <Name of your class capitalized>:`\n",
    "- Everything that is indented after the colon (:) will be inside our class\n",
    "- We also need to include an initializing function inside the class:\n",
    "    - `def __init__(self):`\n",
    "- We can add arguments to the init function to specify what attributes the phone will have\n",
    "    - Ex: `def __init__(self, name):`\n",
    "    - To save \"name\" as an attribute, we do `self.name = name` within the init function\n",
    "        - This will make sense later!"
   ]
  },
  {
   "cell_type": "code",
   "execution_count": 12,
   "metadata": {},
   "outputs": [],
   "source": [
    "# We will create a class for phone here\n",
    "class Phone():\n",
    "    def __init__(self,name,brand,os,size, password):\n",
    "        self.name = name\n",
    "        self.brand = brand\n",
    "        self.os = os\n",
    "        self.size = size\n",
    "        self.password = password\n"
   ]
  },
  {
   "cell_type": "markdown",
   "metadata": {},
   "source": [
    "### How do we use a class?\n",
    "- We first have to create one\n",
    "    - `<variable name for the class> = <Name of class>()`\n",
    "    - Whatever arguments the class has go in the parentheses\n",
    "- We can reference the attributes of the class by:\n",
    "    - `<variable name for the class>.<attribute>`"
   ]
  },
  {
   "cell_type": "code",
   "execution_count": 13,
   "metadata": {},
   "outputs": [
    {
     "name": "stdout",
     "output_type": "stream",
     "text": [
      "Apple\n"
     ]
    }
   ],
   "source": [
    "# Let's use the Phone object we declared before\n",
    "my_phone = Phone('iPhone 11','Apple','iOS','Normal', \"1234\")\n",
    "print(my_phone.brand)"
   ]
  },
  {
   "cell_type": "markdown",
   "metadata": {},
   "source": [
    "### Let's dive into the init function!\n",
    "- When we create a class the arguments are passed into the init function\n",
    "    - So for the Phone class above, name would be passed to init\n",
    "- We see that name goes into **self.name**, **self.name** is the attribute, **name** is what we passed in\n",
    "- **self** is a reference to the actual object"
   ]
  },
  {
   "cell_type": "markdown",
   "metadata": {},
   "source": [
    "## Let's work through an example together\n",
    "- Let's create a multiple choice quiz\n",
    "- What do we need in a multiple choice quiz?"
   ]
  },
  {
   "cell_type": "code",
   "execution_count": null,
   "metadata": {},
   "outputs": [],
   "source": [
    "# Create quiz here\n",
    "class Question:\n",
    "    def __init__(self, question, answer):\n",
    "        self.question = question\n",
    "        self.answer = answer\n",
    "\n",
    "quiz = [\n",
    "    Question(\"What is the capital of Nicaragua?\\na) Managua\\nb) Guatemala City\\nc) San Jose\\n\\n\",\"a\"),\n",
    "    Question(\"Who created Python\\na) Raul Leclair\\nb) Guido Van Rossum\\nc) Sergio Salmeron\\n\\n\",\"b\"),\n",
    "    Question(\"What year is it?\\na) 1922\\nb) 2022\\nc) 2021\",\"b\")\n",
    "]\n",
    "\n",
    "score = 0\n",
    "for my_question in quiz:\n",
    "    answer = input(my_question.question)\n",
    "    if answer == my_question.answer:\n",
    "        score += 1\n",
    "\n",
    "print(\"You got: \" + str(score) + \"/\" + str(len(quiz)))"
   ]
  },
  {
   "cell_type": "markdown",
   "metadata": {},
   "source": [
    "## **6.2 Class Functions**\n",
    "- Can use function inside classes, all of the objects can use it"
   ]
  },
  {
   "cell_type": "markdown",
   "metadata": {},
   "source": [
    "## Adding functions to classes\n",
    "- What if we wanted to know to unlock our phone?"
   ]
  },
  {
   "cell_type": "code",
   "execution_count": 20,
   "metadata": {},
   "outputs": [
    {
     "name": "stdout",
     "output_type": "stream",
     "text": [
      "True\n",
      "False\n"
     ]
    }
   ],
   "source": [
    "class Phone():\n",
    "    def __init__(self,name,brand,os,size, password):\n",
    "        self.name = name\n",
    "        self.brand = brand\n",
    "        self.os = os\n",
    "        self.size = size\n",
    "        self.password = password\n",
    "\n",
    "    def unlock(self, attempt):\n",
    "        if self.password == attempt:\n",
    "            return True\n",
    "        else:\n",
    "            return False\n",
    "\n",
    "# Let's give it a shot\n",
    "my_iPhone = Phone(\"Raul's iphone\", \"Apple\", \"iOS\", \"normal\", \"1234\")\n",
    "print(my_iPhone.unlock('1234'))\n",
    "\n",
    "my_Pixel = Phone(\"Raul's Pixel\", \"Google\", \"Android\", \"big\", \"4321\")\n",
    "print(my_Pixel.unlock('1234'))\n"
   ]
  }
 ],
 "metadata": {
  "interpreter": {
   "hash": "5edc29c2ed010d6458d71a83433b383a96a8cbd3efe8531bc90c4b8a5b8bcec9"
  },
  "kernelspec": {
   "display_name": "Python 3.8.9 64-bit",
   "language": "python",
   "name": "python3"
  },
  "language_info": {
   "codemirror_mode": {
    "name": "ipython",
    "version": 3
   },
   "file_extension": ".py",
   "mimetype": "text/x-python",
   "name": "python",
   "nbconvert_exporter": "python",
   "pygments_lexer": "ipython3",
   "version": "3.8.9"
  },
  "orig_nbformat": 4
 },
 "nbformat": 4,
 "nbformat_minor": 2
}
